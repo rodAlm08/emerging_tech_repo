{
 "cells": [
  {
   "cell_type": "markdown",
   "metadata": {},
   "source": [
    "# Task 1\n"
   ]
  },
  {
   "cell_type": "markdown",
   "metadata": {},
   "source": [
    "***"
   ]
  },
  {
   "cell_type": "markdown",
   "metadata": {},
   "source": [
    "%reload_ext cite2c\n",
    "\n",
    "\\bibliography{bibliography}\n",
    "\\bibliographystyle{plain}\n"
   ]
  },
  {
   "cell_type": "markdown",
   "metadata": {},
   "source": [
    "\n",
    "The Collatz conjecture1 is a famous unsolved problem in mathematics. The problem is to prove that if you start with any positive\n",
    "integer x and repeatedly apply the function f(x) below, you always get stuck in the repeating sequence 1, 4, 2, 1, 4, 2, . . ."
   ]
  },
  {
   "cell_type": "markdown",
   "metadata": {},
   "source": [
    "  $$ f(x) = \\begin{cases}\n",
    "    x \\div 2 & \\text{if } x \\text{ is even} \\\\\n",
    "    3x + 1              & \\text{otherwise} \n",
    "  \\end{cases}$$"
   ]
  },
  {
   "cell_type": "markdown",
   "metadata": {},
   "source": [
    "For example, starting with the value 10, which is an even number,\n",
    "we divide it by 2 to get 5. Then 5 is an odd number so, we multiply by 3 and add 1 to get 16. Then we repeatedly divide by 2 to\n",
    "get 8, 4, 2, 1. Once we are at 1, we go back to 4 and get stuck in the\n",
    "repeating sequence 4, 2, 1 as we suspected.\n",
    "Your task is to verify, using Python, that the conjecture is true for\n",
    "the first 10,000 positive integers.\n"
   ]
  },
  {
   "cell_type": "markdown",
   "metadata": {},
   "source": [
    "## Solution:"
   ]
  },
  {
   "cell_type": "markdown",
   "metadata": {},
   "source": [
    "# Collatz conjecture rules:\n"
   ]
  },
  {
   "cell_type": "code",
   "execution_count": 47,
   "metadata": {},
   "outputs": [],
   "source": [
    "# Collatz conjecture rules\n",
    "def collatzRule(n): #take a number \n",
    "    if n % 2 == 0: #if the number is even divide by 2\n",
    "        return n // 2\n",
    "    else: #if the number is odd multiply it by 3 and add 1\n",
    "        return 3 * n + 1"
   ]
  },
  {
   "cell_type": "markdown",
   "metadata": {},
   "source": [
    "Explanation: The conjecture suggests that no matter which positive integer you start with and how many times you apply these rules you will always end up in the cycle 1, 4, 2, 1, 4, 2"
   ]
  },
  {
   "cell_type": "markdown",
   "metadata": {},
   "source": [
    "# Verify the conjecture for the first 10,000 positive numbers:\n"
   ]
  },
  {
   "cell_type": "code",
   "execution_count": 48,
   "metadata": {},
   "outputs": [
    {
     "name": "stdout",
     "output_type": "stream",
     "text": [
      "Collatz conjecture is true for the first 10000 positive integers.\n"
     ]
    }
   ],
   "source": [
    "integers_to_check = 10000\n",
    "\n",
    "# for each integer, apply the the Collatz Rule until we either reach 1 which confirms \n",
    "# the conjecture for that number or encounter a cycle where the number loops back to itself without \n",
    "# reaching 1, which would indicate a vialotion of the conjecture\n",
    "for i in range(1, integers_to_check + 1): \n",
    "    num = i\n",
    "    while num != 1:\n",
    "        num = collatzRule(num)\n",
    "        if num == i:\n",
    "            print(f\"Collatz conjecture is not true for {i}.\")\n",
    "            break\n",
    "else:\n",
    "    print(f\"Collatz conjecture is true for the first {integers_to_check} positive integers.\")"
   ]
  },
  {
   "cell_type": "markdown",
   "metadata": {},
   "source": [
    "\"The Collatz conjecture states that the orbit of every number under f eventually reaches 1. And while no one has proved the conjecture, it has been verified for every number less than 268. So if you’re looking for a counterexample, you can start around 300 quintillion. (You were warned!)\" \n",
    "\n",
    "According to a Quanta Magazine article, the Collatz conjecture remains unsolved [@quanta_collatz_conjecture].\n",
    "\n",
    "\n",
    "*Quanta Magazine*. (2020). The Collatz Conjecture: Exploring the Mysteries of Mathematics. [Link to the article](https://www.quantamagazine.org/why-mathematicians-still-cant-solve-the-collatz-conjecture-20200922/)\n"
   ]
  },
  {
   "cell_type": "markdown",
   "metadata": {},
   "source": [
    "# Task 2"
   ]
  },
  {
   "cell_type": "markdown",
   "metadata": {},
   "source": [
    "****\n"
   ]
  },
  {
   "cell_type": "markdown",
   "metadata": {},
   "source": [
    "Square roots are difficult to calculate. In Python, you typically\n",
    "use the power operator (a double asterisk) or a package such\n",
    "as math. In this task,2 you should write a function sqrt(x) to approximate the square root of a floating point number x without\n",
    "using the power operator or a package.\n",
    "Rather, you should use the Newton’s method. Start with an initial guess for the square root called z0. You then repeatedly\n",
    "improve it using the following formula, until the difference between some previous guess zi and the next zi+1\n",
    "is less than some threshold, say 0.01."
   ]
  },
  {
   "cell_type": "markdown",
   "metadata": {},
   "source": [
    " $$ z_{i+1} = z_i -  \\frac{z_i \\times z_i - x}{2 z_i}$$"
   ]
  },
  {
   "cell_type": "markdown",
   "metadata": {},
   "source": [
    "## Solution"
   ]
  },
  {
   "cell_type": "code",
   "execution_count": 49,
   "metadata": {},
   "outputs": [],
   "source": [
    "def sqrt(x):\n",
    "    # Initial guess for the square root\n",
    "    z = x / 2\n",
    "    \n",
    "    # treshhold\n",
    "    threshold = 0.01\n",
    "    \n",
    "    # Iterate until difference between consecutive guesses is less than the threshold\n",
    "    while abs(z * z - x) > threshold:\n",
    "        # Update the guess using Newton's method formula\n",
    "        z = z - (z * z - x) / (2 * z)\n",
    "    \n",
    "    # Return the final approximation of the square root\n",
    "    return z\n"
   ]
  },
  {
   "cell_type": "markdown",
   "metadata": {},
   "source": [
    "# Let's apply it:"
   ]
  },
  {
   "cell_type": "code",
   "execution_count": 50,
   "metadata": {},
   "outputs": [
    {
     "name": "stdout",
     "output_type": "stream",
     "text": [
      "The square root of 150.0 is approximately 12.247448730871339\n"
     ]
    }
   ],
   "source": [
    "number_to_calculate = 150.0  # Float number to calculate the square root using Newton's method\n",
    "result = sqrt(number_to_calculate)\n",
    "print(f\"The square root of {number_to_calculate} is approximately {result}\")"
   ]
  },
  {
   "cell_type": "code",
   "execution_count": 51,
   "metadata": {},
   "outputs": [],
   "source": [
    "import numpy as np\n",
    "array = np.arange(4)"
   ]
  },
  {
   "cell_type": "markdown",
   "metadata": {},
   "source": [
    "Let's consider the following array: {eval}`array`.\n",
    "\n",
    "We can compute the total: {eval}`array.sum()` and the maximum value is {eval}`array.max()`."
   ]
  },
  {
   "cell_type": "markdown",
   "metadata": {},
   "source": [
    "# Task 3"
   ]
  },
  {
   "cell_type": "markdown",
   "metadata": {},
   "source": [
    "****"
   ]
  },
  {
   "cell_type": "markdown",
   "metadata": {},
   "source": [
    "Consider all possible functions taking four bits as input and outputting a single bit. How many such possible functions are there?\n",
    "<p>Write Python code to select one such function at random out of all\n",
    "the possibilities. Suppose the only way you can figure out what\n",
    "the function is, is by calling it with different inputs and checking\n",
    "the outputs. How many times do you need to call the function to\n",
    "be certain which function it is?"
   ]
  },
  {
   "cell_type": "markdown",
   "metadata": {},
   "source": [
    "### Below is my trial"
   ]
  },
  {
   "cell_type": "code",
   "execution_count": 52,
   "metadata": {},
   "outputs": [
    {
     "name": "stdout",
     "output_type": "stream",
     "text": [
      "Input bits: [1, 1, 0, 0]\n",
      "Output bit: 0\n"
     ]
    }
   ],
   "source": [
    "import random\n",
    "\n",
    "def random_function(input): # function that takes an input and output a single bit\n",
    "    return random.choice([0,1]) # generate a random output\n",
    "\n",
    "input = [random.choice([0, 1]) for _ in range(4)] # generate a random input >> define the range 2 bits or 4 bits\n",
    "\n",
    "output = random_function(input) # calculate the output using the random function\n",
    "\n",
    "# let's ptint input and output\n",
    "print(\"Input bits:\", input)\n",
    "print(\"Output bit:\", output)\n"
   ]
  },
  {
   "cell_type": "markdown",
   "metadata": {},
   "source": [
    "### From here onwards, Ian explanation"
   ]
  },
  {
   "cell_type": "code",
   "execution_count": 53,
   "metadata": {},
   "outputs": [],
   "source": [
    "import itertools as it"
   ]
  },
  {
   "cell_type": "code",
   "execution_count": 54,
   "metadata": {},
   "outputs": [
    {
     "data": {
      "text/plain": [
       "[(0, 0, 0, 0, 0, 0, 0, 0),\n",
       " (0, 0, 0, 0, 0, 0, 0, 1),\n",
       " (0, 0, 0, 0, 0, 0, 1, 0),\n",
       " (0, 0, 0, 0, 0, 0, 1, 1),\n",
       " (0, 0, 0, 0, 0, 1, 0, 0),\n",
       " (0, 0, 0, 0, 0, 1, 0, 1),\n",
       " (0, 0, 0, 0, 0, 1, 1, 0),\n",
       " (0, 0, 0, 0, 0, 1, 1, 1),\n",
       " (0, 0, 0, 0, 1, 0, 0, 0),\n",
       " (0, 0, 0, 0, 1, 0, 0, 1),\n",
       " (0, 0, 0, 0, 1, 0, 1, 0),\n",
       " (0, 0, 0, 0, 1, 0, 1, 1),\n",
       " (0, 0, 0, 0, 1, 1, 0, 0),\n",
       " (0, 0, 0, 0, 1, 1, 0, 1),\n",
       " (0, 0, 0, 0, 1, 1, 1, 0),\n",
       " (0, 0, 0, 0, 1, 1, 1, 1),\n",
       " (0, 0, 0, 1, 0, 0, 0, 0),\n",
       " (0, 0, 0, 1, 0, 0, 0, 1),\n",
       " (0, 0, 0, 1, 0, 0, 1, 0),\n",
       " (0, 0, 0, 1, 0, 0, 1, 1),\n",
       " (0, 0, 0, 1, 0, 1, 0, 0),\n",
       " (0, 0, 0, 1, 0, 1, 0, 1),\n",
       " (0, 0, 0, 1, 0, 1, 1, 0),\n",
       " (0, 0, 0, 1, 0, 1, 1, 1),\n",
       " (0, 0, 0, 1, 1, 0, 0, 0),\n",
       " (0, 0, 0, 1, 1, 0, 0, 1),\n",
       " (0, 0, 0, 1, 1, 0, 1, 0),\n",
       " (0, 0, 0, 1, 1, 0, 1, 1),\n",
       " (0, 0, 0, 1, 1, 1, 0, 0),\n",
       " (0, 0, 0, 1, 1, 1, 0, 1),\n",
       " (0, 0, 0, 1, 1, 1, 1, 0),\n",
       " (0, 0, 0, 1, 1, 1, 1, 1),\n",
       " (0, 0, 1, 0, 0, 0, 0, 0),\n",
       " (0, 0, 1, 0, 0, 0, 0, 1),\n",
       " (0, 0, 1, 0, 0, 0, 1, 0),\n",
       " (0, 0, 1, 0, 0, 0, 1, 1),\n",
       " (0, 0, 1, 0, 0, 1, 0, 0),\n",
       " (0, 0, 1, 0, 0, 1, 0, 1),\n",
       " (0, 0, 1, 0, 0, 1, 1, 0),\n",
       " (0, 0, 1, 0, 0, 1, 1, 1),\n",
       " (0, 0, 1, 0, 1, 0, 0, 0),\n",
       " (0, 0, 1, 0, 1, 0, 0, 1),\n",
       " (0, 0, 1, 0, 1, 0, 1, 0),\n",
       " (0, 0, 1, 0, 1, 0, 1, 1),\n",
       " (0, 0, 1, 0, 1, 1, 0, 0),\n",
       " (0, 0, 1, 0, 1, 1, 0, 1),\n",
       " (0, 0, 1, 0, 1, 1, 1, 0),\n",
       " (0, 0, 1, 0, 1, 1, 1, 1),\n",
       " (0, 0, 1, 1, 0, 0, 0, 0),\n",
       " (0, 0, 1, 1, 0, 0, 0, 1),\n",
       " (0, 0, 1, 1, 0, 0, 1, 0),\n",
       " (0, 0, 1, 1, 0, 0, 1, 1),\n",
       " (0, 0, 1, 1, 0, 1, 0, 0),\n",
       " (0, 0, 1, 1, 0, 1, 0, 1),\n",
       " (0, 0, 1, 1, 0, 1, 1, 0),\n",
       " (0, 0, 1, 1, 0, 1, 1, 1),\n",
       " (0, 0, 1, 1, 1, 0, 0, 0),\n",
       " (0, 0, 1, 1, 1, 0, 0, 1),\n",
       " (0, 0, 1, 1, 1, 0, 1, 0),\n",
       " (0, 0, 1, 1, 1, 0, 1, 1),\n",
       " (0, 0, 1, 1, 1, 1, 0, 0),\n",
       " (0, 0, 1, 1, 1, 1, 0, 1),\n",
       " (0, 0, 1, 1, 1, 1, 1, 0),\n",
       " (0, 0, 1, 1, 1, 1, 1, 1),\n",
       " (0, 1, 0, 0, 0, 0, 0, 0),\n",
       " (0, 1, 0, 0, 0, 0, 0, 1),\n",
       " (0, 1, 0, 0, 0, 0, 1, 0),\n",
       " (0, 1, 0, 0, 0, 0, 1, 1),\n",
       " (0, 1, 0, 0, 0, 1, 0, 0),\n",
       " (0, 1, 0, 0, 0, 1, 0, 1),\n",
       " (0, 1, 0, 0, 0, 1, 1, 0),\n",
       " (0, 1, 0, 0, 0, 1, 1, 1),\n",
       " (0, 1, 0, 0, 1, 0, 0, 0),\n",
       " (0, 1, 0, 0, 1, 0, 0, 1),\n",
       " (0, 1, 0, 0, 1, 0, 1, 0),\n",
       " (0, 1, 0, 0, 1, 0, 1, 1),\n",
       " (0, 1, 0, 0, 1, 1, 0, 0),\n",
       " (0, 1, 0, 0, 1, 1, 0, 1),\n",
       " (0, 1, 0, 0, 1, 1, 1, 0),\n",
       " (0, 1, 0, 0, 1, 1, 1, 1),\n",
       " (0, 1, 0, 1, 0, 0, 0, 0),\n",
       " (0, 1, 0, 1, 0, 0, 0, 1),\n",
       " (0, 1, 0, 1, 0, 0, 1, 0),\n",
       " (0, 1, 0, 1, 0, 0, 1, 1),\n",
       " (0, 1, 0, 1, 0, 1, 0, 0),\n",
       " (0, 1, 0, 1, 0, 1, 0, 1),\n",
       " (0, 1, 0, 1, 0, 1, 1, 0),\n",
       " (0, 1, 0, 1, 0, 1, 1, 1),\n",
       " (0, 1, 0, 1, 1, 0, 0, 0),\n",
       " (0, 1, 0, 1, 1, 0, 0, 1),\n",
       " (0, 1, 0, 1, 1, 0, 1, 0),\n",
       " (0, 1, 0, 1, 1, 0, 1, 1),\n",
       " (0, 1, 0, 1, 1, 1, 0, 0),\n",
       " (0, 1, 0, 1, 1, 1, 0, 1),\n",
       " (0, 1, 0, 1, 1, 1, 1, 0),\n",
       " (0, 1, 0, 1, 1, 1, 1, 1),\n",
       " (0, 1, 1, 0, 0, 0, 0, 0),\n",
       " (0, 1, 1, 0, 0, 0, 0, 1),\n",
       " (0, 1, 1, 0, 0, 0, 1, 0),\n",
       " (0, 1, 1, 0, 0, 0, 1, 1),\n",
       " (0, 1, 1, 0, 0, 1, 0, 0),\n",
       " (0, 1, 1, 0, 0, 1, 0, 1),\n",
       " (0, 1, 1, 0, 0, 1, 1, 0),\n",
       " (0, 1, 1, 0, 0, 1, 1, 1),\n",
       " (0, 1, 1, 0, 1, 0, 0, 0),\n",
       " (0, 1, 1, 0, 1, 0, 0, 1),\n",
       " (0, 1, 1, 0, 1, 0, 1, 0),\n",
       " (0, 1, 1, 0, 1, 0, 1, 1),\n",
       " (0, 1, 1, 0, 1, 1, 0, 0),\n",
       " (0, 1, 1, 0, 1, 1, 0, 1),\n",
       " (0, 1, 1, 0, 1, 1, 1, 0),\n",
       " (0, 1, 1, 0, 1, 1, 1, 1),\n",
       " (0, 1, 1, 1, 0, 0, 0, 0),\n",
       " (0, 1, 1, 1, 0, 0, 0, 1),\n",
       " (0, 1, 1, 1, 0, 0, 1, 0),\n",
       " (0, 1, 1, 1, 0, 0, 1, 1),\n",
       " (0, 1, 1, 1, 0, 1, 0, 0),\n",
       " (0, 1, 1, 1, 0, 1, 0, 1),\n",
       " (0, 1, 1, 1, 0, 1, 1, 0),\n",
       " (0, 1, 1, 1, 0, 1, 1, 1),\n",
       " (0, 1, 1, 1, 1, 0, 0, 0),\n",
       " (0, 1, 1, 1, 1, 0, 0, 1),\n",
       " (0, 1, 1, 1, 1, 0, 1, 0),\n",
       " (0, 1, 1, 1, 1, 0, 1, 1),\n",
       " (0, 1, 1, 1, 1, 1, 0, 0),\n",
       " (0, 1, 1, 1, 1, 1, 0, 1),\n",
       " (0, 1, 1, 1, 1, 1, 1, 0),\n",
       " (0, 1, 1, 1, 1, 1, 1, 1),\n",
       " (1, 0, 0, 0, 0, 0, 0, 0),\n",
       " (1, 0, 0, 0, 0, 0, 0, 1),\n",
       " (1, 0, 0, 0, 0, 0, 1, 0),\n",
       " (1, 0, 0, 0, 0, 0, 1, 1),\n",
       " (1, 0, 0, 0, 0, 1, 0, 0),\n",
       " (1, 0, 0, 0, 0, 1, 0, 1),\n",
       " (1, 0, 0, 0, 0, 1, 1, 0),\n",
       " (1, 0, 0, 0, 0, 1, 1, 1),\n",
       " (1, 0, 0, 0, 1, 0, 0, 0),\n",
       " (1, 0, 0, 0, 1, 0, 0, 1),\n",
       " (1, 0, 0, 0, 1, 0, 1, 0),\n",
       " (1, 0, 0, 0, 1, 0, 1, 1),\n",
       " (1, 0, 0, 0, 1, 1, 0, 0),\n",
       " (1, 0, 0, 0, 1, 1, 0, 1),\n",
       " (1, 0, 0, 0, 1, 1, 1, 0),\n",
       " (1, 0, 0, 0, 1, 1, 1, 1),\n",
       " (1, 0, 0, 1, 0, 0, 0, 0),\n",
       " (1, 0, 0, 1, 0, 0, 0, 1),\n",
       " (1, 0, 0, 1, 0, 0, 1, 0),\n",
       " (1, 0, 0, 1, 0, 0, 1, 1),\n",
       " (1, 0, 0, 1, 0, 1, 0, 0),\n",
       " (1, 0, 0, 1, 0, 1, 0, 1),\n",
       " (1, 0, 0, 1, 0, 1, 1, 0),\n",
       " (1, 0, 0, 1, 0, 1, 1, 1),\n",
       " (1, 0, 0, 1, 1, 0, 0, 0),\n",
       " (1, 0, 0, 1, 1, 0, 0, 1),\n",
       " (1, 0, 0, 1, 1, 0, 1, 0),\n",
       " (1, 0, 0, 1, 1, 0, 1, 1),\n",
       " (1, 0, 0, 1, 1, 1, 0, 0),\n",
       " (1, 0, 0, 1, 1, 1, 0, 1),\n",
       " (1, 0, 0, 1, 1, 1, 1, 0),\n",
       " (1, 0, 0, 1, 1, 1, 1, 1),\n",
       " (1, 0, 1, 0, 0, 0, 0, 0),\n",
       " (1, 0, 1, 0, 0, 0, 0, 1),\n",
       " (1, 0, 1, 0, 0, 0, 1, 0),\n",
       " (1, 0, 1, 0, 0, 0, 1, 1),\n",
       " (1, 0, 1, 0, 0, 1, 0, 0),\n",
       " (1, 0, 1, 0, 0, 1, 0, 1),\n",
       " (1, 0, 1, 0, 0, 1, 1, 0),\n",
       " (1, 0, 1, 0, 0, 1, 1, 1),\n",
       " (1, 0, 1, 0, 1, 0, 0, 0),\n",
       " (1, 0, 1, 0, 1, 0, 0, 1),\n",
       " (1, 0, 1, 0, 1, 0, 1, 0),\n",
       " (1, 0, 1, 0, 1, 0, 1, 1),\n",
       " (1, 0, 1, 0, 1, 1, 0, 0),\n",
       " (1, 0, 1, 0, 1, 1, 0, 1),\n",
       " (1, 0, 1, 0, 1, 1, 1, 0),\n",
       " (1, 0, 1, 0, 1, 1, 1, 1),\n",
       " (1, 0, 1, 1, 0, 0, 0, 0),\n",
       " (1, 0, 1, 1, 0, 0, 0, 1),\n",
       " (1, 0, 1, 1, 0, 0, 1, 0),\n",
       " (1, 0, 1, 1, 0, 0, 1, 1),\n",
       " (1, 0, 1, 1, 0, 1, 0, 0),\n",
       " (1, 0, 1, 1, 0, 1, 0, 1),\n",
       " (1, 0, 1, 1, 0, 1, 1, 0),\n",
       " (1, 0, 1, 1, 0, 1, 1, 1),\n",
       " (1, 0, 1, 1, 1, 0, 0, 0),\n",
       " (1, 0, 1, 1, 1, 0, 0, 1),\n",
       " (1, 0, 1, 1, 1, 0, 1, 0),\n",
       " (1, 0, 1, 1, 1, 0, 1, 1),\n",
       " (1, 0, 1, 1, 1, 1, 0, 0),\n",
       " (1, 0, 1, 1, 1, 1, 0, 1),\n",
       " (1, 0, 1, 1, 1, 1, 1, 0),\n",
       " (1, 0, 1, 1, 1, 1, 1, 1),\n",
       " (1, 1, 0, 0, 0, 0, 0, 0),\n",
       " (1, 1, 0, 0, 0, 0, 0, 1),\n",
       " (1, 1, 0, 0, 0, 0, 1, 0),\n",
       " (1, 1, 0, 0, 0, 0, 1, 1),\n",
       " (1, 1, 0, 0, 0, 1, 0, 0),\n",
       " (1, 1, 0, 0, 0, 1, 0, 1),\n",
       " (1, 1, 0, 0, 0, 1, 1, 0),\n",
       " (1, 1, 0, 0, 0, 1, 1, 1),\n",
       " (1, 1, 0, 0, 1, 0, 0, 0),\n",
       " (1, 1, 0, 0, 1, 0, 0, 1),\n",
       " (1, 1, 0, 0, 1, 0, 1, 0),\n",
       " (1, 1, 0, 0, 1, 0, 1, 1),\n",
       " (1, 1, 0, 0, 1, 1, 0, 0),\n",
       " (1, 1, 0, 0, 1, 1, 0, 1),\n",
       " (1, 1, 0, 0, 1, 1, 1, 0),\n",
       " (1, 1, 0, 0, 1, 1, 1, 1),\n",
       " (1, 1, 0, 1, 0, 0, 0, 0),\n",
       " (1, 1, 0, 1, 0, 0, 0, 1),\n",
       " (1, 1, 0, 1, 0, 0, 1, 0),\n",
       " (1, 1, 0, 1, 0, 0, 1, 1),\n",
       " (1, 1, 0, 1, 0, 1, 0, 0),\n",
       " (1, 1, 0, 1, 0, 1, 0, 1),\n",
       " (1, 1, 0, 1, 0, 1, 1, 0),\n",
       " (1, 1, 0, 1, 0, 1, 1, 1),\n",
       " (1, 1, 0, 1, 1, 0, 0, 0),\n",
       " (1, 1, 0, 1, 1, 0, 0, 1),\n",
       " (1, 1, 0, 1, 1, 0, 1, 0),\n",
       " (1, 1, 0, 1, 1, 0, 1, 1),\n",
       " (1, 1, 0, 1, 1, 1, 0, 0),\n",
       " (1, 1, 0, 1, 1, 1, 0, 1),\n",
       " (1, 1, 0, 1, 1, 1, 1, 0),\n",
       " (1, 1, 0, 1, 1, 1, 1, 1),\n",
       " (1, 1, 1, 0, 0, 0, 0, 0),\n",
       " (1, 1, 1, 0, 0, 0, 0, 1),\n",
       " (1, 1, 1, 0, 0, 0, 1, 0),\n",
       " (1, 1, 1, 0, 0, 0, 1, 1),\n",
       " (1, 1, 1, 0, 0, 1, 0, 0),\n",
       " (1, 1, 1, 0, 0, 1, 0, 1),\n",
       " (1, 1, 1, 0, 0, 1, 1, 0),\n",
       " (1, 1, 1, 0, 0, 1, 1, 1),\n",
       " (1, 1, 1, 0, 1, 0, 0, 0),\n",
       " (1, 1, 1, 0, 1, 0, 0, 1),\n",
       " (1, 1, 1, 0, 1, 0, 1, 0),\n",
       " (1, 1, 1, 0, 1, 0, 1, 1),\n",
       " (1, 1, 1, 0, 1, 1, 0, 0),\n",
       " (1, 1, 1, 0, 1, 1, 0, 1),\n",
       " (1, 1, 1, 0, 1, 1, 1, 0),\n",
       " (1, 1, 1, 0, 1, 1, 1, 1),\n",
       " (1, 1, 1, 1, 0, 0, 0, 0),\n",
       " (1, 1, 1, 1, 0, 0, 0, 1),\n",
       " (1, 1, 1, 1, 0, 0, 1, 0),\n",
       " (1, 1, 1, 1, 0, 0, 1, 1),\n",
       " (1, 1, 1, 1, 0, 1, 0, 0),\n",
       " (1, 1, 1, 1, 0, 1, 0, 1),\n",
       " (1, 1, 1, 1, 0, 1, 1, 0),\n",
       " (1, 1, 1, 1, 0, 1, 1, 1),\n",
       " (1, 1, 1, 1, 1, 0, 0, 0),\n",
       " (1, 1, 1, 1, 1, 0, 0, 1),\n",
       " (1, 1, 1, 1, 1, 0, 1, 0),\n",
       " (1, 1, 1, 1, 1, 0, 1, 1),\n",
       " (1, 1, 1, 1, 1, 1, 0, 0),\n",
       " (1, 1, 1, 1, 1, 1, 0, 1),\n",
       " (1, 1, 1, 1, 1, 1, 1, 0),\n",
       " (1, 1, 1, 1, 1, 1, 1, 1)]"
      ]
     },
     "execution_count": 54,
     "metadata": {},
     "output_type": "execute_result"
    }
   ],
   "source": [
    "list(it.product((0,1),repeat=2**3))"
   ]
  },
  {
   "cell_type": "code",
   "execution_count": 55,
   "metadata": {},
   "outputs": [],
   "source": [
    "import random"
   ]
  },
  {
   "cell_type": "code",
   "execution_count": 56,
   "metadata": {},
   "outputs": [],
   "source": [
    "g_outputs = random.choice(list(it.product((0,1),repeat=2**3)))\n",
    "def g(a,b,c):\n",
    "    i = a * 4 + b * 2 + c * 1\n",
    "    return g_outputs[i]"
   ]
  },
  {
   "cell_type": "code",
   "execution_count": 57,
   "metadata": {},
   "outputs": [
    {
     "data": {
      "text/plain": [
       "1"
      ]
     },
     "execution_count": 57,
     "metadata": {},
     "output_type": "execute_result"
    }
   ],
   "source": [
    "g(0,0,0)"
   ]
  },
  {
   "cell_type": "code",
   "execution_count": 58,
   "metadata": {},
   "outputs": [
    {
     "data": {
      "text/plain": [
       "(1, 1, 0, 0, 0, 0, 1, 0)"
      ]
     },
     "execution_count": 58,
     "metadata": {},
     "output_type": "execute_result"
    }
   ],
   "source": [
    "g_outputs"
   ]
  },
  {
   "cell_type": "code",
   "execution_count": 59,
   "metadata": {},
   "outputs": [],
   "source": [
    "\n",
    "def create_f():\n",
    "    f_outputs = random.choice(list(it.product((0,1),repeat=2**3)))\n",
    "    def f(a,b,c):\n",
    "        i = a * 4 + b * 2 + c * 1\n",
    "        return f_outputs[i]\n",
    "    return f\n"
   ]
  },
  {
   "cell_type": "code",
   "execution_count": 60,
   "metadata": {},
   "outputs": [],
   "source": [
    "f = create_f()"
   ]
  },
  {
   "cell_type": "code",
   "execution_count": 61,
   "metadata": {},
   "outputs": [
    {
     "data": {
      "text/plain": [
       "1"
      ]
     },
     "execution_count": 61,
     "metadata": {},
     "output_type": "execute_result"
    }
   ],
   "source": [
    "f(0,0,0)"
   ]
  },
  {
   "cell_type": "code",
   "execution_count": 62,
   "metadata": {},
   "outputs": [
    {
     "data": {
      "text/plain": [
       "<function __main__.create_f.<locals>.f(a, b, c)>"
      ]
     },
     "execution_count": 62,
     "metadata": {},
     "output_type": "execute_result"
    }
   ],
   "source": [
    "f"
   ]
  },
  {
   "cell_type": "markdown",
   "metadata": {},
   "source": [
    "# Task 4\n",
    "***"
   ]
  },
  {
   "cell_type": "markdown",
   "metadata": {},
   "source": [
    "Write a function that performs matrix multiplication on two\n",
    "rectangular lists containing floats in Python."
   ]
  },
  {
   "cell_type": "code",
   "execution_count": 63,
   "metadata": {},
   "outputs": [],
   "source": [
    "def matrix_multiplication(matrix1, matrix2):\n",
    "    #convert input matrices to numpy arrays\n",
    "    matrix1 = np.array(matrix1)\n",
    "    matrix2 = np.array(matrix2)\n",
    "\n",
    "    #check if the matrices can be multiplied\n",
    "    if matrix1.shape[1] != matrix2.shape[0]:\n",
    "        print(\"Matrices cannot be multiplied!\")\n",
    "        return None\n",
    "    \n",
    "    #create the result matrix using the dot multiplication from numpy\n",
    "    result = np.dot(matrix1,matrix2)\n",
    "    \n",
    "    return result.tolist()   #return the result as a regular list"
   ]
  },
  {
   "cell_type": "code",
   "execution_count": 65,
   "metadata": {},
   "outputs": [
    {
     "name": "stdout",
     "output_type": "stream",
     "text": [
      "[[58.0, 64.0], [139.0, 154.0]]\n"
     ]
    }
   ],
   "source": [
    "# lets try with 2 matrices\n",
    "matrix1 = [[1.0, 2.0, 3.0],\n",
    "           [4.0, 5.0, 6.0]]\n",
    "\n",
    "matrix2 = [[7.0, 8.0],\n",
    "           [9.0, 10.0],\n",
    "           [11.0, 12.0]]\n",
    "\n",
    "# multiply the matrices\n",
    "multiplication_result = matrix_multiplication(matrix1, matrix2)\n",
    "# print the result\n",
    "print(multiplication_result)"
   ]
  },
  {
   "cell_type": "markdown",
   "metadata": {},
   "source": []
  },
  {
   "cell_type": "code",
   "execution_count": null,
   "metadata": {},
   "outputs": [],
   "source": []
  },
  {
   "cell_type": "markdown",
   "metadata": {},
   "source": [
    "****"
   ]
  },
  {
   "cell_type": "markdown",
   "metadata": {},
   "source": [
    "# References:"
   ]
  },
  {
   "cell_type": "markdown",
   "metadata": {},
   "source": [
    "1 - Collatz Conjecture: https://www.quantamagazine.org/why-mathematicians-still-cant-solve-the-collatz-conjecture-20200922/\n",
    "\n",
    "2 - Newton's Method: https://hackernoon.com/calculating-the-square-root-of-a-number-using-the-newton-raphson-method-a-how-to-guide-yr4e32zo"
   ]
  },
  {
   "cell_type": "markdown",
   "metadata": {},
   "source": [
    "{#refs}"
   ]
  }
 ],
 "metadata": {
  "kernelspec": {
   "display_name": "Python 3 (ipykernel)",
   "language": "python",
   "name": "python3"
  },
  "language_info": {
   "codemirror_mode": {
    "name": "ipython",
    "version": 3
   },
   "file_extension": ".py",
   "mimetype": "text/x-python",
   "name": "python",
   "nbconvert_exporter": "python",
   "pygments_lexer": "ipython3",
   "version": "3.11.5"
  }
 },
 "nbformat": 4,
 "nbformat_minor": 4
}
