{
 "cells": [
  {
   "cell_type": "markdown",
   "metadata": {},
   "source": [
    "# Task 1\n"
   ]
  },
  {
   "cell_type": "markdown",
   "metadata": {},
   "source": [
    "%reload_ext cite2c\n",
    "\n",
    "\\bibliography{bibliography}\n",
    "\\bibliographystyle{plain}\n"
   ]
  },
  {
   "cell_type": "markdown",
   "metadata": {},
   "source": [
    "\n",
    "The Collatz conjecture1 is a famous unsolved problem in mathematics. The problem is to prove that if you start with any positive\n",
    "integer x and repeatedly apply the function f(x) below, you always get stuck in the repeating sequence 1, 4, 2, 1, 4, 2, . . ."
   ]
  },
  {
   "cell_type": "markdown",
   "metadata": {},
   "source": [
    "  $$ f(x) = \\begin{cases}\n",
    "    x \\div 2 & \\text{if } x \\text{ is even} \\\\\n",
    "    3x + 1              & \\text{otherwise} \n",
    "  \\end{cases}$$"
   ]
  },
  {
   "cell_type": "markdown",
   "metadata": {},
   "source": [
    "For example, starting with the value 10, which is an even number,\n",
    "we divide it by 2 to get 5. Then 5 is an odd number so, we multiply by 3 and add 1 to get 16. Then we repeatedly divide by 2 to\n",
    "get 8, 4, 2, 1. Once we are at 1, we go back to 4 and get stuck in the\n",
    "repeating sequence 4, 2, 1 as we suspected.\n",
    "Your task is to verify, using Python, that the conjecture is true for\n",
    "the first 10,000 positive integers.\n"
   ]
  },
  {
   "cell_type": "markdown",
   "metadata": {},
   "source": [
    "## Solution:"
   ]
  },
  {
   "cell_type": "markdown",
   "metadata": {},
   "source": [
    "# Collatz conjecture rules:\n"
   ]
  },
  {
   "cell_type": "code",
   "execution_count": 2,
   "metadata": {},
   "outputs": [],
   "source": [
    "# Collatz conjecture rules\n",
    "def collatzRule(n): #take a number \n",
    "    if n % 2 == 0: #if the number is even divide by 2\n",
    "        return n // 2\n",
    "    else: #if the number is odd multiply it by 3 and add 1\n",
    "        return 3 * n + 1"
   ]
  },
  {
   "cell_type": "markdown",
   "metadata": {},
   "source": [
    "Explanation: The conjecture suggests that no matter which positive integer you start with and how many times you apply these rules you will always end up in the cycle 1, 4, 2, 1, 4, 2"
   ]
  },
  {
   "cell_type": "markdown",
   "metadata": {},
   "source": [
    "# Verify the conjecture for the first 10,000 positive numbers:\n"
   ]
  },
  {
   "cell_type": "code",
   "execution_count": 3,
   "metadata": {},
   "outputs": [
    {
     "name": "stdout",
     "output_type": "stream",
     "text": [
      "Collatz conjecture is true for the first 10000 positive integers.\n"
     ]
    }
   ],
   "source": [
    "integers_to_check = 10000\n",
    "\n",
    "# for each integer, apply the the Collatz Rule until we either reach 1 which confirms \n",
    "# the conjecture for that number or encounter a cycle where the number loops back to itself without \n",
    "# reaching 1, which would indicate a vialotion of the conjecture\n",
    "for i in range(1, integers_to_check + 1): \n",
    "    num = i\n",
    "    while num != 1:\n",
    "        num = collatzRule(num)\n",
    "        if num == i:\n",
    "            print(f\"Collatz conjecture is not true for {i}.\")\n",
    "            break\n",
    "else:\n",
    "    print(f\"Collatz conjecture is true for the first {integers_to_check} positive integers.\")"
   ]
  },
  {
   "cell_type": "markdown",
   "metadata": {},
   "source": [
    "\"The Collatz conjecture states that the orbit of every number under f eventually reaches 1. And while no one has proved the conjecture, it has been verified for every number less than 268. So if you’re looking for a counterexample, you can start around 300 quintillion. (You were warned!)\" \n",
    "\n",
    "According to a Quanta Magazine article, the Collatz conjecture remains unsolved [@quanta_collatz_conjecture].\n",
    "\n",
    "\n",
    "*Quanta Magazine*. (2020). The Collatz Conjecture: Exploring the Mysteries of Mathematics. [Link to the article](https://www.quantamagazine.org/why-mathematicians-still-cant-solve-the-collatz-conjecture-20200922/)\n"
   ]
  },
  {
   "cell_type": "markdown",
   "metadata": {},
   "source": [
    "# Task 2"
   ]
  },
  {
   "cell_type": "markdown",
   "metadata": {},
   "source": [
    "Square roots are difficult to calculate. In Python, you typically\n",
    "use the power operator (a double asterisk) or a package such\n",
    "as math. In this task,2 you should write a function sqrt(x) to approximate the square root of a floating point number x without\n",
    "using the power operator or a package.\n",
    "Rather, you should use the Newton’s method. Start with an initial guess for the square root called z0. You then repeatedly\n",
    "improve it using the following formula, until the difference between some previous guess zi and the next zi+1\n",
    "is less than some threshold, say 0.01."
   ]
  },
  {
   "cell_type": "markdown",
   "metadata": {},
   "source": [
    " $$ z_{i+1} = z_i -  \\frac{z_i \\times z_i - x}{2 z_i}$$"
   ]
  },
  {
   "cell_type": "markdown",
   "metadata": {},
   "source": [
    "## Solution"
   ]
  },
  {
   "cell_type": "code",
   "execution_count": 4,
   "metadata": {},
   "outputs": [],
   "source": [
    "def sqrt(x):\n",
    "    # Initial guess for the square root\n",
    "    z = x / 2\n",
    "    \n",
    "    # treshhold\n",
    "    threshold = 0.01\n",
    "    \n",
    "    # Iterate until difference between consecutive guesses is less than the threshold\n",
    "    while abs(z * z - x) > threshold:\n",
    "        # Update the guess using Newton's method formula\n",
    "        z = z - (z * z - x) / (2 * z)\n",
    "    \n",
    "    # Return the final approximation of the square root\n",
    "    return z\n"
   ]
  },
  {
   "cell_type": "markdown",
   "metadata": {},
   "source": [
    "# Let's apply it:"
   ]
  },
  {
   "cell_type": "code",
   "execution_count": 5,
   "metadata": {},
   "outputs": [
    {
     "name": "stdout",
     "output_type": "stream",
     "text": [
      "The square root of 150.0 is approximately 12.247448730871339\n"
     ]
    }
   ],
   "source": [
    "number_to_calculate = 150.0  # Float number to calculate the square root using Newton's method\n",
    "result = sqrt(number_to_calculate)\n",
    "print(f\"The square root of {number_to_calculate} is approximately {result}\")"
   ]
  },
  {
   "cell_type": "code",
   "execution_count": 6,
   "metadata": {},
   "outputs": [],
   "source": [
    "import numpy as np\n",
    "array = np.arange(4)"
   ]
  },
  {
   "cell_type": "markdown",
   "metadata": {},
   "source": [
    "Let's consider the following array: {eval}`array`.\n",
    "\n",
    "We can compute the total: {eval}`array.sum()` and the maximum value is {eval}`array.max()`."
   ]
  },
  {
   "cell_type": "markdown",
   "metadata": {},
   "source": [
    "# References:"
   ]
  },
  {
   "cell_type": "markdown",
   "metadata": {},
   "source": [
    "1 - Collatz Conjecture: https://www.quantamagazine.org/why-mathematicians-still-cant-solve-the-collatz-conjecture-20200922/\n",
    "\n",
    "2 - Newton's Method: https://hackernoon.com/calculating-the-square-root-of-a-number-using-the-newton-raphson-method-a-how-to-guide-yr4e32zo"
   ]
  },
  {
   "cell_type": "markdown",
   "metadata": {},
   "source": [
    "{#refs}"
   ]
  }
 ],
 "metadata": {
  "kernelspec": {
   "display_name": "Python 3 (ipykernel)",
   "language": "python",
   "name": "python3"
  },
  "language_info": {
   "codemirror_mode": {
    "name": "ipython",
    "version": 3
   },
   "file_extension": ".py",
   "mimetype": "text/x-python",
   "name": "python",
   "nbconvert_exporter": "python",
   "pygments_lexer": "ipython3",
   "version": "3.11.4"
  }
 },
 "nbformat": 4,
 "nbformat_minor": 4
}
