{
 "cells": [
  {
   "cell_type": "markdown",
   "metadata": {},
   "source": [
    "# Project\n",
    "***\n",
    "Rodrigo Almeida"
   ]
  },
  {
   "cell_type": "code",
   "execution_count": 29,
   "metadata": {},
   "outputs": [],
   "source": [
    "import numpy as np\n",
    "import seaborn as sns\n",
    "import matplotlib.pyplot as plt\n",
    "# Qiskit Visualisation contains functions that visualizes quantum states and more\n",
    "import qiskit.visualization as viz\n",
    "from qiskit import QuantumCircuit, Aer, transpile\n",
    "from qiskit import QuantumCircuit, Aer, transpile"
   ]
  },
  {
   "cell_type": "markdown",
   "metadata": {},
   "source": [
    "### Classical computing vs Quantum Computing\n",
    "***"
   ]
  },
  {
   "cell_type": "markdown",
   "metadata": {},
   "source": [
    "The following is an overview of Quantum information and computation based on an many notebooks writen by John Watrous.\n",
    "\n",
    "Classical information is used a foundational concept for understanding quantum information.\n",
    "Despite the difference between classical and quantum information, their mathematical descriptions shar some similarities. Questions about quantum information often have classical counterparts. Understand classical information is deemed essential for grasping the complexities of quantum information.\n",
    "\n",
    "\n"
   ]
  },
  {
   "cell_type": "markdown",
   "metadata": {},
   "source": [
    "***\n",
    "### Quantum computing:"
   ]
  },
  {
   "cell_type": "markdown",
   "metadata": {},
   "source": [
    "Quantum computing is a field of computing that utilizes the principles of quantum mechanics to process and store information, offering the potential for solving certain types of problems more efficiently than classical computers. At its core, quantum computing operates on the quantum bit, or qubit, which can exist in multiple states simultaneously due to the phenomenon known as superposition."
   ]
  },
  {
   "cell_type": "markdown",
   "metadata": {},
   "source": [
    "### How quantum computer works?"
   ]
  },
  {
   "cell_type": "markdown",
   "metadata": {},
   "source": [
    "Quantum computers operate on the principles of quantum mechanics, which is the branch of physics that describes the behavior of matter and energy at the smallest scales, such as atoms and subatomic particles. The key components that make quantum computers different from classical computers are qubits, superposition, entanglement, and quantum gates.\n",
    "\n",
    "**Qubits (Quantum Bits)**\n",
    "\n",
    "In classical computers, information is processed using bits, which can be either a 0 or a 1. In contrast, quantum computers use qubits, which can exist in multiple states simultaneously. This property is known as superposition, and it allows quantum computers to perform parallel computations.\n",
    "\n",
    "**Superposition**\n",
    "\n",
    "Superposition enables qubits to represent both 0 and 1 at the same time. While classical bits must be in one state or the other, qubits can explore multiple possibilities simultaneously. This inherent parallelism is a fundamental aspect of quantum computing that provides the potential for exponential speedup in certain calculations.\n",
    "\n",
    "**Entanglement**\n",
    "\n",
    "Entanglement is another quantum property that allows qubits to become correlated with each other in such a way that the state of one qubit is dependent on the state of another, even if they are physically separated. This interconnectedness enables quantum computers to create more extensive and complex states, enhancing their computational capabilities.\n",
    "\n",
    "**Quantum Gates and Circuits**\n",
    "\n",
    "Quantum computers perform operations on qubits using quantum gates. These gates are analogous to classical logic gates but operate on quantum bits. Importantly, quantum gates are reversible, meaning they do not lose information. Quantum circuits are constructed from qubits, wires, and these quantum gates. Quantum algorithms, such as Shor's algorithm and Grover's algorithm, are designed to leverage the unique capabilities of quantum computers to solve specific problems more efficiently than classical algorithms.\n",
    "\n",
    "**Measurement in Quantum Computing**\n",
    "\n",
    "The act of measuring a qubit collapses its superposition to one of the possible states. Quantum algorithms are designed to exploit the probabilities inherent in superposition, and the final measurement provides the output of the computation.\n",
    "\n",
    "In summary, the ability of qubits to exist in superposition and entanglement allows quantum computers to explore multiple possibilities simultaneously and perform complex computations more efficiently for certain types of problems. This fundamental difference in computation principles makes quantum computers a potentially powerful tool for specific applications, such as factorizing large numbers, searching unsorted databases, and solving certain optimization problems, where classical computers would struggle.\n"
   ]
  },
  {
   "cell_type": "markdown",
   "metadata": {},
   "source": [
    "### Classical Information"
   ]
  },
  {
   "cell_type": "markdown",
   "metadata": {},
   "source": [
    "Classical information acts as a crucial reference point in understanding quantum information. Understand classical information is considered essential for comprehension of quantum information. In this section will introduces Dirac notation, which is a commonly used tool in quantum information to describe vectors and matrices. Dirac notation is not limited to quantum contexts, it is also applicable in classical information and various other scenarios involving vectors and matrices."
   ]
  },
  {
   "cell_type": "markdown",
   "metadata": {},
   "source": [
    "Classical information provides a foundational understanding for quantum information. Despite the the differences between quantum and classical information, the mathematical frameworks are in some point similar. Classical states, represented as finite and nonempty sets ($\\Sigma$), signify distinct configurations of a system. Examples include binary states ${|0\\rangle, |1\\rangle}$ for a bit, or numbers ${|1\\rangle, |2\\rangle, |3\\rangle, |4\\rangle, |5\\rangle, |6\\rangle}$ for a six-sided die."
   ]
  },
  {
   "cell_type": "markdown",
   "metadata": {},
   "source": [
    "$\\text{If } X \\text{ is a bit, then } \\Sigma=\\{0,1\\}.\\\\\n",
    "\\text{If } X \\text{ is a six-sided die, then } \\Sigma=\\{1,2,3,4,5,6\\}.\\\\\n",
    "\\text{If } X \\text{ is an electric fan switch, then } \\Sigma=\\{\\text{high, medium, low, off}\\}.$\n"
   ]
  },
  {
   "cell_type": "markdown",
   "metadata": {},
   "source": [
    "When $\\mathsf{X}$ represents information, the classical states can have many meanings. Sometimes, $\\mathsf{X}$'s states is known with certainty, but in information processing, $\\mathsf{X}$ can be uncertain. In such cases the knowledge is represented using probabilities. \n",
    "\n",
    "Based on what we know or expect about what has happened to $\\mathsf{X}$ in the past, perhaps we believe that $\\mathsf{X}$ is in the classical state $\\mathsf{0}$ with probability $\\frac{3}{4}$ and in the state $\\mathsf{1}$ with probability $\\frac{1}{4}$. We may represent such a belief by writing this:\n",
    "\n",
    "This probabilistic state can be succinctly represented as a column vector: \n"
   ]
  },
  {
   "cell_type": "markdown",
   "metadata": {},
   "source": [
    "\n",
    "$$\\text{Pr}(X=0) = \\frac{3}{4} \\quad \\text{and} \\quad \\text{Pr}(X=1) = \\frac{1}{4}\n",
    "$$\n"
   ]
  },
  {
   "cell_type": "markdown",
   "metadata": {},
   "source": [
    "A more succinct way to represent this probabilistic state is by a column vector."
   ]
  },
  {
   "cell_type": "markdown",
   "metadata": {},
   "source": [
    "$$\\begin{pmatrix}\n",
    "\\frac{3}{4} \\\\\n",
    "\\frac{1}{4}\n",
    "\\end{pmatrix}\n",
    "$$\n"
   ]
  },
  {
   "cell_type": "markdown",
   "metadata": {},
   "source": [
    "The probability of the bit being 0 is placed at the top of the vector and the probability of the bit being 1 is placed at the bottom, simply because this is the conventional way to order the set \\{0,1\\}."
   ]
  },
  {
   "cell_type": "markdown",
   "metadata": {},
   "source": [
    "In simple terms, we can describe the uncertain state of a system, where the outcomes are based on classical states, using a vector of probabilities. These probabilities, indicating the likelihood of each outcome, are organized in a specific order corresponding to the classical states. To clarify, any uncertain state can be represented by a vertical list of nonnegative real numbers that add up to 1.\n"
   ]
  },
  {
   "cell_type": "markdown",
   "metadata": {},
   "source": [
    "# Using a coin to explain the probabilistic states\n",
    "***"
   ]
  },
  {
   "cell_type": "markdown",
   "metadata": {},
   "source": [
    " Suppose we flip a fair coin, but cover up the coin before looking at it. We would then say that its probabilistic state is\n",
    "\n"
   ]
  },
  {
   "cell_type": "markdown",
   "metadata": {},
   "source": [
    "$$\n",
    "\\left(\\begin{array}{c}\n",
    "\\frac{1}{2} \\\\\n",
    "\\frac{1}{2}\n",
    "\\end{array}\\right) = \\frac{2}{1}|\\text{heads}\\rangle + \\frac{2}{1}|\\text{tails}\\rangle\n",
    "\n",
    "$$\n"
   ]
  },
  {
   "cell_type": "markdown",
   "metadata": {},
   "source": [
    "Here, the classical state set of our coin is \\{\\text{heads},\\text{tails}\\}. We'll choose to order these states as heads first, tails second."
   ]
  },
  {
   "cell_type": "markdown",
   "metadata": {},
   "source": [
    "$$|heads⟩ = \\begin{pmatrix} 1 \\\\ 0 \\end{pmatrix} \\quad \\text{and} \\quad |tails⟩ = \\begin{pmatrix} 0 \\\\ 1 \\end{pmatrix}$$\n"
   ]
  },
  {
   "cell_type": "markdown",
   "metadata": {},
   "source": [
    "Imagine we have a coin, and if we were to reveal it, we'd see either heads or tails—two classical states. If it shows tails, our description of the coin's state becomes |tails⟩. If we cover the coin and reveal it again, it's still tails, consistent with the state |tails⟩. This might seem straightforward, and it is. Quantum systems behave similarly, but their properties are often seen as strange. By understanding how classical systems behave when measured, the seemingly unusual properties of quantum information become more understandable."
   ]
  },
  {
   "cell_type": "markdown",
   "metadata": {},
   "source": [
    "The following code allows us to simulate a single coin flip and shows us the outcome: heads or tails, represented as 0 or 1. The outcome is random due to the 50% probability specified in the code."
   ]
  },
  {
   "cell_type": "code",
   "execution_count": 5,
   "metadata": {},
   "outputs": [
    {
     "name": "stdout",
     "output_type": "stream",
     "text": [
      "Single Coin Flip Result: [1]\n"
     ]
    }
   ],
   "source": [
    "# Simulating a Single Coin Flip\n",
    "result_single_flip = np.random.binomial(1, 0.5)\n",
    "print(\"Single Coin Flip Result:\", [result_single_flip])"
   ]
  },
  {
   "cell_type": "markdown",
   "metadata": {},
   "source": [
    "Next, we will flip the coin 20 times. Over a large number of flips, we can expect roughly half of the outcomes to be heads (represented as 0) and half to be tails (represented as 1)."
   ]
  },
  {
   "cell_type": "code",
   "execution_count": 6,
   "metadata": {},
   "outputs": [
    {
     "name": "stdout",
     "output_type": "stream",
     "text": [
      "Twenty Coin Flips Results: [0 1 0 1 0 1 0 0 0 1 0 0 1 0 0 0 1 1 1 0]\n"
     ]
    }
   ],
   "source": [
    "# Simulating Twenty Coin Flips\n",
    "results_twenty_flips = np.random.binomial(1, 0.5, 20)\n",
    "print(\"Twenty Coin Flips Results:\", results_twenty_flips)"
   ]
  },
  {
   "cell_type": "markdown",
   "metadata": {},
   "source": [
    "Now flipping it 100 times. We will keep track of the tails and then print it. Please note that everytime we run we will get a different result."
   ]
  },
  {
   "cell_type": "code",
   "execution_count": 7,
   "metadata": {},
   "outputs": [
    {
     "name": "stdout",
     "output_type": "stream",
     "text": [
      "Total Tails in One Hundred Coin Flips: 54\n"
     ]
    }
   ],
   "source": [
    "# Simulating One Hundred Coin Flips and Counting Heads\n",
    "total_tail = np.random.binomial(100, 0.5)\n",
    "print(\"Total Tails in One Hundred Coin Flips:\", total_tail)"
   ]
  },
  {
   "cell_type": "markdown",
   "metadata": {},
   "source": [
    "Now on the following code we will flip a single coin 1 Million times and plot it. Due to the fair coin flip probabilities the plot demonstrade the expect 50/50 distribution"
   ]
  },
  {
   "cell_type": "code",
   "execution_count": 8,
   "metadata": {},
   "outputs": [
    {
     "data": {
      "image/png": "[encoded data removed]",
      "text/plain": [
       "<Figure size 640x480 with 1 Axes>"
      ]
     },
     "metadata": {},
     "output_type": "display_data"
    }
   ],
   "source": [
    "# Visualizing Single Coin Flips (1 Million Trials)\n",
    "\n",
    "sns.countplot(x=np.random.binomial(1, 0.5, 1000000));\n",
    "plt.xlabel(\"Outcome\")\n",
    "plt.ylabel(\"Frequency\")\n",
    "plt.title(\"Distribution of Single Coin Flips (1 Million Trials)\")\n",
    "plt.show()"
   ]
  },
  {
   "cell_type": "markdown",
   "metadata": {},
   "source": [
    "# Quantum Information\n",
    "***"
   ]
  },
  {
   "cell_type": "markdown",
   "metadata": {},
   "source": [
    "Quantum information is the information of the state of a quantum system. It is the basic entity of study in quantum information theory, and can be manipulated using quantum information processing techniques."
   ]
  },
  {
   "cell_type": "markdown",
   "metadata": {},
   "source": [
    "## Quantum state vectors:"
   ]
  },
  {
   "cell_type": "markdown",
   "metadata": {},
   "source": [
    "In quantum information, a system's state is represented by a column vector, akin to probabilistic states. The indices of the vector denote the classical states of the system. Quantum state vectors possess two key properties:"
   ]
  },
  {
   "cell_type": "markdown",
   "metadata": {},
   "source": [
    "**Complex Number Entries:** The entries of a quantum state vector are complex numbers. \n",
    "\n",
    "**Normalization Constraint:** The sum of the absolute values squared of the entries in a quantum state vector equals 1. In mathematical terms, the Euclidean norm of the vector, denoted as $\\|v\\|$, satisfies:"
   ]
  },
  {
   "cell_type": "markdown",
   "metadata": {},
   "source": [
    "$$\\|v\\| = \\sqrt{\\sum_{k=1}^n |\\alpha_k|^2}.$$\n",
    "\n"
   ]
  },
  {
   "cell_type": "markdown",
   "metadata": {},
   "source": [
    "This ensures quantum state vectors are normalized to a length of 1, marking a fundamental difference from classical information. The ability to incorporate complex numbers and impose this specific normalization condition forms the core distinction between quantum and classical information. Quantum information's transformative impact, such as faster quantum computing and improved communication protocols, originates from these foundational principles."
   ]
  },
  {
   "cell_type": "markdown",
   "metadata": {},
   "source": [
    "## Classical Computing vs. Quantum Computing in a diagram:"
   ]
  },
  {
   "cell_type": "markdown",
   "metadata": {},
   "source": [
    "<div style=\"text-align:center\"><img src=\"./images/QuantumXclassic.png\" alt=\"Classic Computing vs. Quantum Computing\" width=\"900\" height=\"800\"></div>\n"
   ]
  },
  {
   "cell_type": "markdown",
   "metadata": {},
   "source": [
    "## Qubit:"
   ]
  },
  {
   "cell_type": "markdown",
   "metadata": {},
   "source": [
    " The term **Qubit** refers to a quantum system whose classical state set is \\{0,1\\}. That is, a qubit is really just a bit — but by using this name we explicitly recognize that this bit can be in a quantum state."
   ]
  },
  {
   "cell_type": "markdown",
   "metadata": {},
   "source": [
    "Below a are the bits represented in classical computers:"
   ]
  },
  {
   "cell_type": "markdown",
   "metadata": {},
   "source": [
    "\\begin{pmatrix} 1 \\\\ 0 \\end{pmatrix} = \\vert 0 \\rangle \\quad \\text{and} \\quad \\begin{pmatrix} 0 \\\\ 1 \\end{pmatrix} = \\vert 1 \\rangle,"
   ]
  },
  {
   "cell_type": "markdown",
   "metadata": {},
   "source": [
    "Rather then a probability of halves it's now a probability amplitute, with any number between 0 and 1. Here are examples of quantum states of a qubit:"
   ]
  },
  {
   "cell_type": "markdown",
   "metadata": {},
   "source": [
    "\n",
    "\\begin{pmatrix} \\frac{1}{\\sqrt{2}}\\\\[2mm] \\frac{1}{\\sqrt{2}} \\end{pmatrix} = \\frac{1}{\\sqrt{2}}\\,\\vert 0\\rangle + \\frac{1}{\\sqrt{2}}\\,\\vert 1\\rangle \\quad \\text{(1)},\n"
   ]
  },
  {
   "cell_type": "markdown",
   "metadata": {},
   "source": [
    "\n",
    "\\begin{pmatrix} \\frac{1+2i}{3}\\\\[2mm] -\\frac{3}{2} \\end{pmatrix} = \\frac{1+2i}{3}\\,\\vert 0\\rangle - \\frac{3}{2}\\,\\vert 1\\rangle."
   ]
  },
  {
   "cell_type": "markdown",
   "metadata": {},
   "source": [
    "***"
   ]
  },
  {
   "cell_type": "markdown",
   "metadata": {},
   "source": [
    "# Qiskit:"
   ]
  },
  {
   "cell_type": "markdown",
   "metadata": {},
   "source": [
    "Qiskit is an open-source quantum computing software development framework created by IBM. It provides a set of tools for working with quantum computers, simulators, and quantum algorithms. Qiskit is designed to make it easier for researchers, developers, and enthusiasts to explore and experiment with quantum computing.\n",
    "\n",
    "Below are some key components and features of Qiskit:"
   ]
  },
  {
   "cell_type": "markdown",
   "metadata": {},
   "source": [
    "- Qiskit Terra: This is the core element of Qiskit, it manages quantum circuits, gates, vizualization. Compiles and optmizes quantum circuits."
   ]
  },
  {
   "cell_type": "code",
   "execution_count": 30,
   "metadata": {},
   "outputs": [
    {
     "name": "stdout",
     "output_type": "stream",
     "text": [
      "Terra Simulation Results: {'11': 501, '00': 523}\n"
     ]
    }
   ],
   "source": [
    "# Qiskit Terra Simulation Example\n",
    "\n",
    "# Create a quantum circuit\n",
    "qc = QuantumCircuit(2, 2)\n",
    "qc.h(0)\n",
    "qc.cx(0, 1)\n",
    "qc.measure([0, 1], [0, 1])\n",
    "\n",
    "# Compile and transpile the circuit for simulation\n",
    "compiled_circuit = transpile(qc, Aer.get_backend('qasm_simulator'))\n",
    "\n",
    "# Simulate the compiled circuit\n",
    "simulator = Aer.get_backend('qasm_simulator')\n",
    "result = simulator.run(compiled_circuit).result()\n",
    "\n",
    "# Get and print the counts from the simulation\n",
    "counts = result.get_counts(qc)\n",
    "print(\"Terra Simulation Results:\", counts)"
   ]
  },
  {
   "cell_type": "markdown",
   "metadata": {},
   "source": [
    "- Qiskit Aer: This component of Qiskit focuses on quantum simulation. It allows users to simulate the execution of quantum circuits on classical computers. Qiskit Aer includes simulators for both idealized noise-free quantum computers and realistic noisy quantum computers."
   ]
  },
  {
   "cell_type": "code",
   "execution_count": 10,
   "metadata": {},
   "outputs": [
    {
     "name": "stdout",
     "output_type": "stream",
     "text": [
      "Aer Simulation Results: {'11': 522, '00': 502}\n"
     ]
    }
   ],
   "source": [
    "# Qiskit Aer Simulation Example\n",
    "\n",
    "# Create a quantum circuit\n",
    "qc = QuantumCircuit(2, 2)\n",
    "qc.h(0)\n",
    "qc.cx(0, 1)\n",
    "qc.measure([0, 1], [0, 1])\n",
    "\n",
    "# Simulate the circuit using Qiskit Aer\n",
    "simulator = Aer.get_backend('qasm_simulator')\n",
    "result = simulator.run(qc).result()\n",
    "\n",
    "# Get and print the counts from the simulation\n",
    "counts = result.get_counts(qc)\n",
    "print(\"Aer Simulation Results:\", counts)"
   ]
  },
  {
   "cell_type": "markdown",
   "metadata": {},
   "source": [
    "- Qiskit Aqua: Aqua stands for Algorithms for Quantum Computing Applications. It's a library within Qiskit that is designed to provide a variety of quantum algorithms for different applications, including optimization, machine learning, and finance."
   ]
  },
  {
   "cell_type": "markdown",
   "metadata": {},
   "source": [
    "- Qiskit's Quantum Devices: Qiskit allows users to run quantum circuits on real quantum devices provided by IBM's Quantum Experience. Users can access IBM's cloud-based quantum computers directly from Qiskit."
   ]
  },
  {
   "cell_type": "markdown",
   "metadata": {},
   "source": [
    "You can never actually see the acutal qubit. All you can see it the outcome, for this reason you need the classical bit"
   ]
  },
  {
   "cell_type": "code",
   "execution_count": 11,
   "metadata": {},
   "outputs": [
    {
     "data": {
      "image/png": "[encoded data removed]",
      "text/plain": [
       "<Figure size 454.517x284.278 with 1 Axes>"
      ]
     },
     "execution_count": 11,
     "metadata": {},
     "output_type": "execute_result"
    }
   ],
   "source": [
    "qc.draw(output='mpl', style='iqp')\n"
   ]
  },
  {
   "cell_type": "markdown",
   "metadata": {},
   "source": [
    "***\n",
    "## Gates"
   ]
  },
  {
   "cell_type": "markdown",
   "metadata": {},
   "source": [
    "### H Gate"
   ]
  },
  {
   "cell_type": "markdown",
   "metadata": {},
   "source": [
    "The Hadamard or Walsh-Hadamard gate, named after Jacques Hadamard and Joseph L. Walsh, acts on a single qubit. It maps the basis states and (it creates an equal superposition state if given a computational basis state). [4] It can be represented by a 2x2 matrix as follow:"
   ]
  },
  {
   "cell_type": "markdown",
   "metadata": {},
   "source": [
    "**Hadamard Gate (\\(H\\)):**\n",
    "The Hadamard gate is represented by the matrix:"
   ]
  },
  {
   "cell_type": "markdown",
   "metadata": {},
   "source": [
    "$$ H = \\frac{1}{\\sqrt{2}} \\begin{bmatrix} 1 & 1 \\\\ 1 & -1 \\end{bmatrix} $$"
   ]
  },
  {
   "cell_type": "markdown",
   "metadata": {},
   "source": [
    "The action of the Hadamard gate on quantum states ${|0\\rangle and |1\\rangle}$"
   ]
  },
  {
   "cell_type": "markdown",
   "metadata": {},
   "source": [
    "$H|0⟩ = \\frac{1}{\\sqrt{2}} \\begin{bmatrix} 1 \\\\ 1 \\end{bmatrix} = |+\\rangle$\n",
    "\n",
    "$H|1⟩ = \\frac{1}{\\sqrt{2}} \\begin{bmatrix} 1 \\\\ -1 \\end{bmatrix} = |-\\rangle$\n"
   ]
  },
  {
   "cell_type": "markdown",
   "metadata": {},
   "source": [
    "The conjugate transpose (adjoint) of the Hadamard gate is denoted as $ H^* $ and is equal to its inverse:"
   ]
  },
  {
   "cell_type": "markdown",
   "metadata": {},
   "source": [
    "$$ H^* = H^{-1} $$"
   ]
  },
  {
   "cell_type": "markdown",
   "metadata": {},
   "source": [
    "In complex numbers notation, if $ (a+bi) $ represents a complex number, then $ (a+bi)^*$ denotes its complex conjugate, given by $a - bi $.\n"
   ]
  },
  {
   "cell_type": "markdown",
   "metadata": {},
   "source": [
    "The identity matrix $I$ in the context of quantum computation is represented as:"
   ]
  },
  {
   "cell_type": "markdown",
   "metadata": {},
   "source": [
    "$$ I = \\begin{bmatrix} 1 & 0 \\\\ 0 & 1 \\end{bmatrix} $$"
   ]
  },
  {
   "cell_type": "markdown",
   "metadata": {},
   "source": [
    "Now let's demontrate the Hadarmard gate using Qskit, creting a simple quantum circuit that applies the $H$ gate to  qubit and the measure the outcome:"
   ]
  },
  {
   "cell_type": "code",
   "execution_count": 12,
   "metadata": {},
   "outputs": [
    {
     "data": {
      "image/png": "[encoded data removed]",
      "text/plain": [
       "<Figure size 269.064x200.667 with 1 Axes>"
      ]
     },
     "execution_count": 12,
     "metadata": {},
     "output_type": "execute_result"
    }
   ],
   "source": [
    "# Create a quantum circuit with one qubit\n",
    "qc = QuantumCircuit(1, 1)\n",
    "# Apply the Hadamard gate to the qubit\n",
    "qc.h(0)\n",
    "# Measure the qubit\n",
    "qc.measure(0, 0)\n",
    "# Draw the circuit\n",
    "qc.draw(output='mpl', style='iqp')\n"
   ]
  },
  {
   "cell_type": "markdown",
   "metadata": {},
   "source": [
    "Now let's simulate the above quantum circuit on a classical computer, then plot the results in a histogram."
   ]
  },
  {
   "cell_type": "code",
   "execution_count": 13,
   "metadata": {},
   "outputs": [
    {
     "name": "stdout",
     "output_type": "stream",
     "text": [
      "{'0': 539, '1': 485}\n"
     ]
    },
    {
     "data": {
      "image/png": "[encoded data removed]",
      "text/plain": [
       "<Figure size 700x500 with 1 Axes>"
      ]
     },
     "execution_count": 13,
     "metadata": {},
     "output_type": "execute_result"
    }
   ],
   "source": [
    "simulator = Aer.get_backend('aer_simulator')\n",
    "circ = transpile(qc, simulator)\n",
    "# turns the quantum circuit into a quantum circuit that can be run on the simulator\n",
    "result = simulator.run(circ).result()\n",
    "# runs the quantum circuit on the simulator\n",
    "counts = result.get_counts(qc)\n",
    "# gets the counts\n",
    "print(counts)\n",
    "# plot the histogram using visualization\n",
    "viz.plot_histogram(counts)"
   ]
  },
  {
   "cell_type": "markdown",
   "metadata": {},
   "source": [
    "### Multiple qubits\n",
    "\n",
    "<br>\n",
    "\n",
    "First qubit: $|0\\rangle = \\begin{bmatrix} 1 \\\\ 0 \\end{bmatrix}$\n",
    "\n",
    "Second qubit: $|1\\rangle = \\begin{bmatrix} 0 \\\\ 1 \\end{bmatrix}$\n",
    "\n",
    "Together: $|01\\rangle = |0\\rangle \\bigotimes |1\\rangle = \\begin{bmatrix} 1 \\begin{bmatrix} 0 \\\\ 1 \\end{bmatrix} \\\\ 0 \\begin{bmatrix} 0 \\\\ 1 \\end{bmatrix} \\end{bmatrix} = \\begin{bmatrix} (1)(0) \\\\ (1)(1) \\\\ (0)(1) \\\\ (0)(0) \\end{bmatrix} = \\begin{bmatrix} 0 \\\\ 1 \\\\ 0 \\\\ 0 \\end{bmatrix}$"
   ]
  },
  {
   "cell_type": "markdown",
   "metadata": {},
   "source": [
    "First Qubit:\n",
    "The state of the first qubit is $ |0\\rangle = \\begin{bmatrix} 1 \\\\ 0 \\end{bmatrix} $. This is the standard basis state for a single qubit where the probability of measuring 0 is 1, and the probability of measuring 1 is 0."
   ]
  },
  {
   "cell_type": "markdown",
   "metadata": {},
   "source": [
    "Second Qubit: The state of the second qubit is $ |1\\rangle = \\begin{bmatrix} 0 \\\\ 1 \\end{bmatrix} $. Similarly, this is the standard basis state for a single qubit, but in this case, the probability of measuring 0 is 0, and the probability of measuring 1 is 1."
   ]
  },
  {
   "cell_type": "markdown",
   "metadata": {},
   "source": [
    "Tensor Product:\n",
    "The combined state of the two qubits is represented by the tensor product ($\\bigotimes$). The tensor product combines the individual states of each qubit into a composite state. "
   ]
  },
  {
   "cell_type": "markdown",
   "metadata": {},
   "source": [
    "$|01\\rangle = |0\\rangle \\bigotimes |1\\rangle = \\begin{bmatrix} 1 \\begin{bmatrix} 0 \\\\ 1 \\end{bmatrix} \\\\ 0 \\begin{bmatrix} 0 \\\\ 1 \\end{bmatrix} \\end{bmatrix} = \\begin{bmatrix} (1)(0) \\\\ (1)(1) \\\\ (0)(1) \\\\ (0)(0) \\end{bmatrix} = \\begin{bmatrix} 0 \\\\ 1 \\\\ 0 \\\\ 0 \\end{bmatrix}$"
   ]
  },
  {
   "cell_type": "code",
   "execution_count": 14,
   "metadata": {},
   "outputs": [
    {
     "data": {
      "image/png": "[encoded data removed]",
      "text/plain": [
       "<Figure size 700x500 with 1 Axes>"
      ]
     },
     "execution_count": 14,
     "metadata": {},
     "output_type": "execute_result"
    }
   ],
   "source": [
    "# Create a quantum circuit with two qubits\n",
    "qc = QuantumCircuit(2, 2)\n",
    "\n",
    "# Apply Hadamard gate to both qubits\n",
    "qc.h(0)\n",
    "qc.h(1)\n",
    "\n",
    "# Measure the qubits\n",
    "qc.measure([0, 1], [0, 1])\n",
    "\n",
    "# Use the Aer simulator for simulation\n",
    "simulator = Aer.get_backend('qasm_simulator')\n",
    "\n",
    "# Transpile the quantum circuit for the simulator\n",
    "compiled_circuit = transpile(qc, simulator)\n",
    "\n",
    "# Run the simulation\n",
    "result = simulator.run(compiled_circuit).result()\n",
    "\n",
    "# Get and plot the measurement results\n",
    "counts = result.get_counts(qc)\n",
    "viz.plot_histogram(counts)"
   ]
  },
  {
   "cell_type": "markdown",
   "metadata": {},
   "source": [
    "***\n",
    "# CNOT\n",
    "find the matrix"
   ]
  },
  {
   "cell_type": "code",
   "execution_count": 15,
   "metadata": {},
   "outputs": [
    {
     "data": {
      "image/png": "[encoded data removed]",
      "text/plain": [
       "<Figure size 370.906x284.278 with 1 Axes>"
      ]
     },
     "execution_count": 15,
     "metadata": {},
     "output_type": "execute_result"
    }
   ],
   "source": [
    "# Aer is a high performance simulator framework for quantum circuits\n",
    "simulator = Aer.get_backend('aer_simulator')\n",
    "# execute the quantum circuit on the simulator\n",
    "qc = QuantumCircuit(2, 2)\n",
    "# qc.cx(0, 1) is a controlled not gate with control qubit 0 and target qubit 1\n",
    "qc.cx(0, 1)\n",
    "# qc.x(0) is a Pauli-X gate with qubit 0 as the input\n",
    "qc.x(1)\n",
    "# qc.measure(0, 0) is a measurement gate with qubit 0 as the input and classical bit 0 as the output\n",
    "qc.measure(0, 0)\n",
    "qc.draw(output='mpl', style='iqp')"
   ]
  },
  {
   "cell_type": "markdown",
   "metadata": {},
   "source": [
    "Let's now measure, the first number is the index of qubit and the second is the classical bit. All it does is add measurement to the circuit, it's like building a class, cosntructing the circuit."
   ]
  },
  {
   "cell_type": "code",
   "execution_count": 16,
   "metadata": {},
   "outputs": [
    {
     "data": {
      "text/plain": [
       "<qiskit.circuit.instructionset.InstructionSet at 0x28f898816f0>"
      ]
     },
     "execution_count": 16,
     "metadata": {},
     "output_type": "execute_result"
    }
   ],
   "source": [
    "qc.measure(0, 0)"
   ]
  },
  {
   "cell_type": "code",
   "execution_count": 17,
   "metadata": {},
   "outputs": [
    {
     "data": {
      "image/png": "[encoded data removed]",
      "text/plain": [
       "<Figure size 454.517x284.278 with 1 Axes>"
      ]
     },
     "execution_count": 17,
     "metadata": {},
     "output_type": "execute_result"
    }
   ],
   "source": [
    "# measure the qubit into classical bit\n",
    "qc.draw(output='mpl', style='iqp')"
   ]
  },
  {
   "cell_type": "code",
   "execution_count": 18,
   "metadata": {},
   "outputs": [
    {
     "name": "stdout",
     "output_type": "stream",
     "text": [
      "{'00': 1024}\n"
     ]
    },
    {
     "data": {
      "image/png": "[encoded data removed]",
      "text/plain": [
       "<Figure size 700x500 with 1 Axes>"
      ]
     },
     "execution_count": 18,
     "metadata": {},
     "output_type": "execute_result"
    }
   ],
   "source": [
    "simulator = Aer.get_backend('aer_simulator')\n",
    "circ = transpile(qc, simulator)\n",
    "# turns the quantum circuit into a quantum circuit that can be run on the simulator\n",
    "result = simulator.run(circ).result()   \n",
    "# runs the quantum circuit on the simulator\n",
    "counts = result.get_counts(qc)\n",
    "# gets the counts\n",
    "print(counts)\n",
    "# plot the histogram using visualization\n",
    "viz.plot_histogram(counts)"
   ]
  },
  {
   "cell_type": "markdown",
   "metadata": {},
   "source": [
    "# Not Gate"
   ]
  },
  {
   "cell_type": "code",
   "execution_count": 19,
   "metadata": {},
   "outputs": [
    {
     "data": {
      "image/png": "[encoded data removed]",
      "text/plain": [
       "<Figure size 269.064x200.667 with 1 Axes>"
      ]
     },
     "execution_count": 19,
     "metadata": {},
     "output_type": "execute_result"
    }
   ],
   "source": [
    "simulator = Aer.get_backend('aer_simulator')\n",
    "qc = QuantumCircuit(1, 1)\n",
    "# qc short for quantum circuit with 1 qubit and 1 classical bit\n",
    "qc.x(0)\n",
    "qc.measure(0, 0)\n",
    "qc.draw(output='mpl', style='iqp')"
   ]
  },
  {
   "cell_type": "code",
   "execution_count": 20,
   "metadata": {},
   "outputs": [
    {
     "name": "stdout",
     "output_type": "stream",
     "text": [
      "{'1': 1024}\n"
     ]
    },
    {
     "data": {
      "image/png": "[encoded data removed]",
      "text/plain": [
       "<Figure size 700x500 with 1 Axes>"
      ]
     },
     "execution_count": 20,
     "metadata": {},
     "output_type": "execute_result"
    }
   ],
   "source": [
    "simulator = Aer.get_backend('aer_simulator')\n",
    "circ = transpile(qc, simulator)\n",
    "# turns the quantum circuit into a quantum circuit that can be run on the simulator\n",
    "result = simulator.run(circ).result()\n",
    "# runs the quantum circuit on the simulator\n",
    "counts = result.get_counts(qc)\n",
    "# gets the counts\n",
    "print(counts)\n",
    "# plot the histogram using visualization\n",
    "viz.plot_histogram(counts)"
   ]
  },
  {
   "cell_type": "markdown",
   "metadata": {},
   "source": [
    "# X followed by H:"
   ]
  },
  {
   "cell_type": "code",
   "execution_count": 21,
   "metadata": {},
   "outputs": [
    {
     "data": {
      "image/png": "[encoded data removed]",
      "text/plain": [
       "<Figure size 352.675x200.667 with 1 Axes>"
      ]
     },
     "execution_count": 21,
     "metadata": {},
     "output_type": "execute_result"
    }
   ],
   "source": [
    "qc = QuantumCircuit(1, 1)\n",
    "# qc short for quantum circuit with 1 qubit and 1 classical bit\n",
    "qc.x(0)\n",
    "qc.h(0)\n",
    "qc.measure(0, 0)\n",
    "qc.draw(output='mpl', style='iqp')"
   ]
  },
  {
   "cell_type": "code",
   "execution_count": 31,
   "metadata": {},
   "outputs": [
    {
     "name": "stdout",
     "output_type": "stream",
     "text": [
      "{'11': 496, '00': 528}\n"
     ]
    },
    {
     "data": {
      "image/png": "[encoded data removed]",
      "text/plain": [
       "<Figure size 700x500 with 1 Axes>"
      ]
     },
     "execution_count": 31,
     "metadata": {},
     "output_type": "execute_result"
    }
   ],
   "source": [
    "simulator = Aer.get_backend('aer_simulator')\n",
    "circ = transpile(qc, simulator)\n",
    "# turns the quantum circuit into a quantum circuit that can be run on the simulator\n",
    "result = simulator.run(circ).result()\n",
    "# runs the quantum circuit on the simulator\n",
    "counts = result.get_counts(qc)\n",
    "# gets the counts\n",
    "print(counts)\n",
    "\n",
    "# plot the histogram using visualization\n",
    "viz.plot_histogram(counts)"
   ]
  },
  {
   "cell_type": "markdown",
   "metadata": {},
   "source": [
    "# <b>Deutsch’s algorithm</b>\n",
    "***"
   ]
  },
  {
   "cell_type": "markdown",
   "metadata": {},
   "source": [
    "**Deutsch's algorithm**, was named after physicist David Deutsch, is a notable quantum algorithm designed to address the Deutsch problem, also known as the Deutsch-Jozsa problem. This problem revolves around determining whether a given mathematical function is constant or balanced. In classical computing, solving this problem typically requires at least two function evaluations. However, Deutsch's quantum algorithm leverages the principles of quantum mechanics to achieve the same result in a single function evaluation, demonstrating the efficiency of quantum parallelism."
   ]
  },
  {
   "cell_type": "markdown",
   "metadata": {},
   "source": [
    "## The algorithm unfolds as follows:\n",
    "\n",
    "| Step                 | Description                                                                                   |\n",
    "|----------------------|-----------------------------------------------------------------------------------------------|\n",
    "| **Initialization:**  | Begin with two qubits in the state $\\|0\\rangle, \\|1\\rangle$.                                 |\n",
    "| **Superposition:**   | Employ quantum gates to create a superposition of all possible input states concurrently.    |\n",
    "| **Function Evaluation:** | Apply the quantum function to the superposition of states, exploiting quantum parallelism.|\n",
    "| **Measurement:**     | Measure the final state, and the outcome provides information on whether the function is constant or balanced.|\n",
    "\n",
    "\n"
   ]
  },
  {
   "cell_type": "markdown",
   "metadata": {},
   "source": [
    "Deutsch's algorithm serves as a foundational example highlighting the capability of quantum computers to outperform classical counterparts in specific tasks through quantum parallelism. While the Deutsch problem may seem artificial, the algorithm has paved the way for more advanced quantum algorithms and significantly contributed to the development of quantum computing."
   ]
  },
  {
   "cell_type": "markdown",
   "metadata": {},
   "source": [
    "# The problem:"
   ]
  },
  {
   "cell_type": "markdown",
   "metadata": {},
   "source": [
    "Quantum computers may not always outpace classical ones in all types of mathematical calculations, but they excel in certain problems that tap into the unique superposition capabilities of qubits, enabling faster solutions.\n",
    "\n",
    "The Deutsch-Jozsa algorithm, conceived by David Deutsch and Richard Jozsa in 1992, is a prime example of leveraging quantum advantages. In the Deutsch–Jozsa problem, a black box quantum computer executes a function that takes n-digit binary inputs, yielding either 0 or 1. The catch is that the function is guaranteed to be either constant (displaying 0 or 1 for all inputs) or balanced (returning 1 for half of the input range and 0 for the other half). The challenge is to discern whether the function is constant or balanced by utilizing the black box quantum computer.\n",
    "\n",
    "To illustrate constant and balanced functions, here's a representation in code using the Classical Algorithm:"
   ]
  },
  {
   "cell_type": "markdown",
   "metadata": {},
   "source": [
    "First let's define a constant function:"
   ]
  },
  {
   "cell_type": "code",
   "execution_count": 23,
   "metadata": {},
   "outputs": [],
   "source": [
    "def constant_function(x):\n",
    "    return 0  # This function is constant, always returning 0"
   ]
  },
  {
   "cell_type": "markdown",
   "metadata": {},
   "source": [
    "Now define the balanced function:"
   ]
  },
  {
   "cell_type": "code",
   "execution_count": 24,
   "metadata": {},
   "outputs": [],
   "source": [
    "def balanced_function(x):\n",
    "    return x % 2  # This function is balanced, returning 1 for half of the inputs and 0 for the other half"
   ]
  },
  {
   "cell_type": "markdown",
   "metadata": {},
   "source": [
    "Let's test the function with some inputs:"
   ]
  },
  {
   "cell_type": "code",
   "execution_count": 25,
   "metadata": {},
   "outputs": [],
   "source": [
    "input_values = [0, 1, 2, 3, 4, 5]"
   ]
  },
  {
   "cell_type": "markdown",
   "metadata": {},
   "source": [
    "Print results for the constant function:"
   ]
  },
  {
   "cell_type": "code",
   "execution_count": 26,
   "metadata": {},
   "outputs": [
    {
     "name": "stdout",
     "output_type": "stream",
     "text": [
      "Results for Constant Function:\n",
      "For input 0, the result is: 0\n",
      "For input 1, the result is: 0\n",
      "For input 2, the result is: 0\n",
      "For input 3, the result is: 0\n",
      "For input 4, the result is: 0\n",
      "For input 5, the result is: 0\n"
     ]
    }
   ],
   "source": [
    "print(\"Results for Constant Function:\")\n",
    "for value in input_values:\n",
    "    result = constant_function(value)\n",
    "    print(f\"For input {value}, the result is: {result}\")"
   ]
  },
  {
   "cell_type": "markdown",
   "metadata": {},
   "source": [
    "Print results for the balanced function:"
   ]
  },
  {
   "cell_type": "code",
   "execution_count": 27,
   "metadata": {},
   "outputs": [
    {
     "name": "stdout",
     "output_type": "stream",
     "text": [
      "\n",
      "Results for Balanced Function:\n",
      "For input 0, the result is: 0\n",
      "For input 1, the result is: 1\n",
      "For input 2, the result is: 0\n",
      "For input 3, the result is: 1\n",
      "For input 4, the result is: 0\n",
      "For input 5, the result is: 1\n"
     ]
    }
   ],
   "source": [
    "print(\"\\nResults for Balanced Function:\")\n",
    "for value in input_values:\n",
    "    result = balanced_function(value)\n",
    "    print(f\"For input {value}, the result is: {result}\")"
   ]
  },
  {
   "cell_type": "markdown",
   "metadata": {},
   "source": [
    "# Deutsch-Jozsa algorithm Simulation"
   ]
  },
  {
   "cell_type": "markdown",
   "metadata": {},
   "source": [
    "\n",
    "Deustsch-Jozsa (DJ) problem is one of the most important problems demonstrating the power of quantum algorithm. DJ problem can be described as a Boolean function: f: {0, 1}n → {0, 1} with promising it is either constant or balanced, and the purpose is to determine which type it is. DJ algorithm can solve it excatly with one query."
   ]
  },
  {
   "cell_type": "markdown",
   "metadata": {},
   "source": []
  },
  {
   "cell_type": "markdown",
   "metadata": {},
   "source": []
  },
  {
   "cell_type": "markdown",
   "metadata": {},
   "source": []
  },
  {
   "cell_type": "markdown",
   "metadata": {},
   "source": [
    "***\n",
    "# End"
   ]
  },
  {
   "cell_type": "markdown",
   "metadata": {},
   "source": [
    "# References:\n",
    "\n",
    "1 - Quantum Circuits: https://learn.qiskit.org/course/basics/quantum-circuits \n",
    "\n",
    "2 - IBM Quantum Learning: https://learning.quantum-computing.ibm.com/course/basics-of-quantum-information/single-systems#quantum-information\n",
    "\n",
    "3 - Quantum computing vs. Classic: https://www.techtarget.com/searchdatacenter/tip/Classical-vs-quantum-computing-What-are-the-differences\n",
    "\n",
    "4 - H Gate: https://en.wikipedia.org/wiki/Quantum_logic_gate#:~:text=The%20Hadamard%20or%20Walsh-Hadamard,given%20a%20computational%20basis%20state)\n",
    "\n",
    "5- Qiskit on Github: https://github.com/Qiskit\n",
    "\n",
    "6- Qiskit documention: https://qiskit.org/documentation/\n",
    "\n",
    "2 - Distributed exact quantum algorithms for Deutsch-Jozsa problem: https://arxiv.org/abs/2303.10663#:~:text=Deutsch%2DJozsa%20(DJ)%20problem,determine%20which%20type%20it%20is.\n",
    "\n",
    "3 - Qiu, Daowen, and Shenggen Zheng. \"Generalized Deutsch-Jozsa problem and the optimal quantum algorithm.\" Physical Review A 97.6 (2018): 062331. https://www.researchgate.net/profile/Shenggen-Zheng/publication/325890680_Generalized_Deutsch-Jozsa_problem_and_the_optimal_quantum_algorithm/links/5ba89c2f45851574f7e1c95e/Generalized-Deutsch-Jozsa-problem-and-the-optimal-quantum-algorithm.pdf\n",
    "\n",
    "4 - Deutsch David and Jozsa Richard 1992Rapid solution of problems by quantum computationProc. R. Soc. Lond. A439553–558\n",
    "http://doi.org/10.1098/rspa.1992.0167"
   ]
  }
 ],
 "metadata": {
  "kernelspec": {
   "display_name": "base",
   "language": "python",
   "name": "python3"
  },
  "language_info": {
   "codemirror_mode": {
    "name": "ipython",
    "version": 3
   },
   "file_extension": ".py",
   "mimetype": "text/x-python",
   "name": "python",
   "nbconvert_exporter": "python",
   "pygments_lexer": "ipython3",
   "version": "3.11.5"
  }
 },
 "nbformat": 4,
 "nbformat_minor": 2
}
