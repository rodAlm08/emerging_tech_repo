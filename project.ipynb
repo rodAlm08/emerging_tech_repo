{
 "cells": [
  {
   "cell_type": "markdown",
   "metadata": {},
   "source": [
    "The following is an overview of Quantum information and computation based on an many notebooks writen by John Watrous.\n",
    "\n",
    "Classical information is used a foundational concept for understanding quantum information.\n",
    "Despite the difference between classical and quantum information, their mathematical descriptions shar some similarities. Questions about quantum information often have classical counterparts. Understand classical information is deemed essential for grasping the complexities of quantum information.\n",
    "\n",
    "\n"
   ]
  },
  {
   "cell_type": "markdown",
   "metadata": {},
   "source": [
    "# Classical Information\n",
    "***"
   ]
  },
  {
   "cell_type": "markdown",
   "metadata": {},
   "source": [
    "Classical information acts as a crucial reference point in understanding quantum information. Understand classical information is considered essential for comprehension of quantum information. In this section will introduces Dirac notation, which is a commonly used tool in quantum information to describe vectors and matrices. Dirac notation is not limited to quantum contexts, it is also applicable in classical information and various other scenarios involving vectors and matrices."
   ]
  },
  {
   "cell_type": "markdown",
   "metadata": {},
   "source": [
    "Classical information provides a foundational understanding for quantum information. Despite the the differences between quantum and classical information, the mathematical frameworks are in some point similar. Classical states, represented as finite and nonempty sets ($\\Sigma$), signify distinct configurations of a system. Examples include binary states ${|0\\rangle, |1\\rangle}$ for a bit, or numbers ${|1\\rangle, |2\\rangle, |3\\rangle, |4\\rangle, |5\\rangle, |6\\rangle}$ for a six-sided die."
   ]
  },
  {
   "cell_type": "markdown",
   "metadata": {},
   "source": [
    "$\\text{If } X \\text{ is a bit, then } \\Sigma=\\{0,1\\}.\\\\\n",
    "\\text{If } X \\text{ is a six-sided die, then } \\Sigma=\\{1,2,3,4,5,6\\}.\\\\\n",
    "\\text{If } X \\text{ is an electric fan switch, then } \\Sigma=\\{\\text{high, medium, low, off}\\}.$\n"
   ]
  },
  {
   "cell_type": "markdown",
   "metadata": {},
   "source": [
    "When $\\mathsf{X}$ represents information, the classical states can have many meanings. Sometimes, $\\mathsf{X}$'s states is known with certainty, but in information processing, $\\mathsf{X}$ can be uncertain. In such cases the knowledge is represented using probabilities. \n",
    "\n",
    "Based on what we know or expect about what has happened to $\\mathsf{X}$ in the past, perhaps we believe that $\\mathsf{X}$ is in the classical state $\\mathsf{0}$ with probability $\\frac{3}{4}$ and in the state $\\mathsf{1}$ with probability $\\frac{1}{4}$. We may represent such a belief by writing this:\n",
    "\n",
    "This probabilistic state can be succinctly represented as a column vector: \n"
   ]
  },
  {
   "cell_type": "markdown",
   "metadata": {},
   "source": [
    "\n",
    "$$\\text{Pr}(X=0) = \\frac{3}{4} \\quad \\text{and} \\quad \\text{Pr}(X=1) = \\frac{1}{4}\n",
    "$$\n"
   ]
  },
  {
   "cell_type": "markdown",
   "metadata": {},
   "source": [
    "A more succinct way to represent this probabilistic state is by a column vector."
   ]
  },
  {
   "cell_type": "markdown",
   "metadata": {},
   "source": [
    "$$\\begin{pmatrix}\n",
    "\\frac{3}{4} \\\\\n",
    "\\frac{1}{4}\n",
    "\\end{pmatrix}\n",
    "$$\n"
   ]
  },
  {
   "cell_type": "markdown",
   "metadata": {},
   "source": [
    "The probability of the bit being 0 is placed at the top of the vector and the probability of the bit being 1 is placed at the bottom, simply because this is the conventional way to order the set \\{0,1\\}."
   ]
  },
  {
   "cell_type": "markdown",
   "metadata": {},
   "source": [
    "In simple terms, we can describe the uncertain state of a system, where the outcomes are based on classical states, using a vector of probabilities. These probabilities, indicating the likelihood of each outcome, are organized in a specific order corresponding to the classical states. To clarify, any uncertain state can be represented by a vertical list of nonnegative real numbers that add up to 1.\n"
   ]
  },
  {
   "cell_type": "markdown",
   "metadata": {},
   "source": [
    "# Using a coin to explain the probabilistic states\n",
    "***"
   ]
  },
  {
   "cell_type": "markdown",
   "metadata": {},
   "source": [
    " Suppose we flip a fair coin, but cover up the coin before looking at it. We would then say that its probabilistic state is\n",
    "\n"
   ]
  },
  {
   "cell_type": "markdown",
   "metadata": {},
   "source": [
    "$$\n",
    "\\left(\\begin{array}{c}\n",
    "\\frac{1}{2} \\\\\n",
    "\\frac{1}{2}\n",
    "\\end{array}\\right) = \\frac{2}{1}|\\text{heads}\\rangle + \\frac{2}{1}|\\text{tails}\\rangle\n",
    "\n",
    "$$\n"
   ]
  },
  {
   "cell_type": "markdown",
   "metadata": {},
   "source": [
    "Here, the classical state set of our coin is \\{\\text{heads},\\text{tails}\\}. We'll choose to order these states as heads first, tails second."
   ]
  },
  {
   "cell_type": "markdown",
   "metadata": {},
   "source": [
    "$$|heads⟩ = \\begin{pmatrix} 1 \\\\ 0 \\end{pmatrix} \\quad \\text{and} \\quad |tails⟩ = \\begin{pmatrix} 0 \\\\ 1 \\end{pmatrix}$$\n"
   ]
  },
  {
   "cell_type": "markdown",
   "metadata": {},
   "source": [
    "Imagine we have a coin, and if we were to reveal it, we'd see either heads or tails—two classical states. If it shows tails, our description of the coin's state becomes |tails⟩. If we cover the coin and reveal it again, it's still tails, consistent with the state |tails⟩. This might seem straightforward, and it is. Quantum systems behave similarly, but their properties are often seen as strange. By understanding how classical systems behave when measured, the seemingly unusual properties of quantum information become more understandable."
   ]
  },
  {
   "cell_type": "code",
   "execution_count": 25,
   "metadata": {},
   "outputs": [],
   "source": [
    "import numpy as np\n",
    "import seaborn as sns\n",
    "import matplotlib.pyplot as plt"
   ]
  },
  {
   "cell_type": "markdown",
   "metadata": {},
   "source": [
    "The following code allows us to simulate a single coin flip and shows us the outcome: heads or tails, represented as 0 or 1. The outcome is random due to the 50% probability specified in the code."
   ]
  },
  {
   "cell_type": "code",
   "execution_count": 26,
   "metadata": {},
   "outputs": [
    {
     "name": "stdout",
     "output_type": "stream",
     "text": [
      "Single Coin Flip Result: [1]\n"
     ]
    }
   ],
   "source": [
    "# Simulating a Single Coin Flip\n",
    "result_single_flip = np.random.binomial(1, 0.5)\n",
    "print(\"Single Coin Flip Result:\", [result_single_flip])"
   ]
  },
  {
   "cell_type": "markdown",
   "metadata": {},
   "source": [
    "Next, we will flip the coin 20 times. Over a large number of flips, we can expect roughly half of the outcomes to be heads (represented as 0) and half to be tails (represented as 1)."
   ]
  },
  {
   "cell_type": "code",
   "execution_count": 27,
   "metadata": {},
   "outputs": [
    {
     "name": "stdout",
     "output_type": "stream",
     "text": [
      "Twenty Coin Flips Results: [1 1 1 1 1 0 1 1 1 0 0 0 0 0 1 0 0 1 0 1]\n"
     ]
    }
   ],
   "source": [
    "# Simulating Twenty Coin Flips\n",
    "results_twenty_flips = np.random.binomial(1, 0.5, 20)\n",
    "print(\"Twenty Coin Flips Results:\", results_twenty_flips)"
   ]
  },
  {
   "cell_type": "markdown",
   "metadata": {},
   "source": [
    "Now flipping it 100 times. We will keep track of the tails and then print it. Please note that everytime we run we will get a different result."
   ]
  },
  {
   "cell_type": "code",
   "execution_count": 28,
   "metadata": {},
   "outputs": [
    {
     "name": "stdout",
     "output_type": "stream",
     "text": [
      "Total Tails in One Hundred Coin Flips: 52\n"
     ]
    }
   ],
   "source": [
    "# Simulating One Hundred Coin Flips and Counting Heads\n",
    "total_tail = np.random.binomial(100, 0.5)\n",
    "print(\"Total Tails in One Hundred Coin Flips:\", total_tail)"
   ]
  },
  {
   "cell_type": "markdown",
   "metadata": {},
   "source": [
    "Now on the following code we will flip a single coin 1 Million times and plot it. Due to the fair coin flip probabilities the plot demonstrade the expect 50/50 distribution"
   ]
  },
  {
   "cell_type": "code",
   "execution_count": 29,
   "metadata": {},
   "outputs": [
    {
     "data": {
      "image/png": "[encoded data removed]",
      "text/plain": [
       "<Figure size 640x480 with 1 Axes>"
      ]
     },
     "metadata": {},
     "output_type": "display_data"
    }
   ],
   "source": [
    "# Visualizing Single Coin Flips (1 Million Trials)\n",
    "\n",
    "sns.countplot(x=np.random.binomial(1, 0.5, 1000000));\n",
    "plt.xlabel(\"Outcome\")\n",
    "plt.ylabel(\"Frequency\")\n",
    "plt.title(\"Distribution of Single Coin Flips (1 Million Trials)\")\n",
    "plt.show()"
   ]
  },
  {
   "cell_type": "markdown",
   "metadata": {},
   "source": [
    "# Quantum Information\n",
    "***"
   ]
  },
  {
   "cell_type": "markdown",
   "metadata": {},
   "source": [
    "Quantum information is the information of the state of a quantum system. It is the basic entity of study in quantum information theory, and can be manipulated using quantum information processing techniques."
   ]
  },
  {
   "cell_type": "markdown",
   "metadata": {},
   "source": [
    "## Quantum state vectors:"
   ]
  },
  {
   "cell_type": "markdown",
   "metadata": {},
   "source": [
    "In quantum information, a system's state is represented by a column vector, akin to probabilistic states. The indices of the vector denote the classical states of the system. Quantum state vectors possess two key properties:"
   ]
  },
  {
   "cell_type": "markdown",
   "metadata": {},
   "source": [
    "**Complex Number Entries:** The entries of a quantum state vector are complex numbers. \n",
    "\n",
    "**Normalization Constraint:** The sum of the absolute values squared of the entries in a quantum state vector equals 1. In mathematical terms, the Euclidean norm of the vector, denoted as $\\|v\\|$, satisfies:"
   ]
  },
  {
   "cell_type": "markdown",
   "metadata": {},
   "source": [
    "$$\\|v\\| = \\sqrt{\\sum_{k=1}^n |\\alpha_k|^2}.$$\n",
    "\n"
   ]
  },
  {
   "cell_type": "markdown",
   "metadata": {},
   "source": [
    "This ensures quantum state vectors are normalized to a length of 1, marking a fundamental difference from classical information. The ability to incorporate complex numbers and impose this specific normalization condition forms the core distinction between quantum and classical information. Quantum information's transformative impact, such as faster quantum computing and improved communication protocols, originates from these foundational principles."
   ]
  },
  {
   "cell_type": "markdown",
   "metadata": {},
   "source": [
    "## Qubit:"
   ]
  },
  {
   "cell_type": "markdown",
   "metadata": {},
   "source": [
    " The term **Qubit** refers to a quantum system whose classical state set is \\{0,1\\}. That is, a qubit is really just a bit — but by using this name we explicitly recognize that this bit can be in a quantum state."
   ]
  },
  {
   "cell_type": "markdown",
   "metadata": {},
   "source": [
    "Here are examples of quantum states of a qubit:\n",
    "\n",
    "\n",
    "\\begin{pmatrix} 1 \\\\ 0 \\end{pmatrix} = \\vert 0 \\rangle \\quad \\text{and} \\quad \\begin{pmatrix} 0 \\\\ 1 \\end{pmatrix} = \\vert 1 \\rangle,\n",
    "\n"
   ]
  },
  {
   "cell_type": "markdown",
   "metadata": {},
   "source": [
    "\n",
    "\\begin{pmatrix} \\frac{1}{\\sqrt{2}}\\\\[2mm] \\frac{1}{\\sqrt{2}} \\end{pmatrix} = \\frac{1}{\\sqrt{2}}\\,\\vert 0\\rangle + \\frac{1}{\\sqrt{2}}\\,\\vert 1\\rangle \\quad \\text{(1)},\n"
   ]
  },
  {
   "cell_type": "markdown",
   "metadata": {},
   "source": [
    "\n",
    "\\begin{pmatrix} \\frac{1+2i}{3}\\\\[2mm] -\\frac{3}{2} \\end{pmatrix} = \\frac{1+2i}{3}\\,\\vert 0\\rangle - \\frac{3}{2}\\,\\vert 1\\rangle."
   ]
  },
  {
   "cell_type": "markdown",
   "metadata": {},
   "source": [
    "## Classical Computing vs. Quantum Computing:"
   ]
  },
  {
   "cell_type": "markdown",
   "metadata": {},
   "source": [
    "<div style=\"text-align:center\"><img src=\"QuantumXclassic.png\" alt=\"Classic Computing vs. Quantum Computing\" width=\"900\" height=\"800\"></div>\n"
   ]
  },
  {
   "cell_type": "markdown",
   "metadata": {},
   "source": []
  },
  {
   "cell_type": "markdown",
   "metadata": {},
   "source": [
    "Shannon came up with the idea of information theory in a very intuitive way. \n",
    "If you want to send information the more random the signal more information will be transmitted.\n",
    "\n",
    "Explain quantum information\n",
    "\n",
    "there is no difference between computation and comunication. hwo is the almost the same thing?\n",
    "\n",
    "- classical information\n",
    "\n"
   ]
  },
  {
   "cell_type": "markdown",
   "metadata": {},
   "source": [
    "***\n",
    "# <b>Deutsch’s algorithm</b>\n",
    "***"
   ]
  },
  {
   "cell_type": "markdown",
   "metadata": {},
   "source": [
    "Deustsch-Jozsa (DJ) problem is one of the most important problems demonstrating the power of quantum algorithm. DJ problem can be described as a Boolean function: f: {0, 1}n → {0, 1} with promising it is either constant or balanced, and the purpose is to determine which type it is. DJ algorithm can solve it excatly with one query.\n"
   ]
  },
  {
   "cell_type": "markdown",
   "metadata": {},
   "source": [
    "Below is an example of quantum circuit, with two qubits:\n"
   ]
  },
  {
   "attachments": {
    "image.png": {
     "image/png": "[encoded data removed]"
    }
   },
   "cell_type": "markdown",
   "metadata": {},
   "source": [
    "![image.png](attachment:image.png)"
   ]
  },
  {
   "cell_type": "markdown",
   "metadata": {},
   "source": [
    "In this circuit we have a Hadamard gate and a controlled-NOT gate on two qubits  and  just like in the previous example. We also have two classical bits,  and , as well as two measurement gates. The measurement gates represent standard basis measurements: the qubits are changed into their post-measurement states, while the measurement outcomes are overwritten onto the classical bits to which the arrows point."
   ]
  },
  {
   "cell_type": "code",
   "execution_count": 30,
   "metadata": {},
   "outputs": [
    {
     "data": {
      "image/png": "[encoded data removed]",
      "text/plain": [
       "<Figure size 436.488x284.278 with 1 Axes>"
      ]
     },
     "execution_count": 30,
     "metadata": {},
     "output_type": "execute_result"
    }
   ],
   "source": [
    "from qiskit import QuantumCircuit, QuantumRegister, ClassicalRegister\n",
    "X = QuantumRegister(1, \"x\")\n",
    "Y = QuantumRegister(1, \"y\")\n",
    "A = ClassicalRegister(1, \"a\")\n",
    "B = ClassicalRegister(1, \"b\")\n",
    "\n",
    "circuit = QuantumCircuit(Y, X, B)\n",
    "circuit.h(Y)\n",
    "circuit.cx(Y, X)\n",
    "\n",
    "circuit.measure(Y, B)\n",
    "circuit.measure(X, B)\n",
    "circuit.draw(output='mpl')"
   ]
  },
  {
   "cell_type": "markdown",
   "metadata": {},
   "source": [
    "***\n",
    "End"
   ]
  },
  {
   "cell_type": "markdown",
   "metadata": {},
   "source": [
    "# References:\n",
    "\n",
    "1 - Quantum Circuits: https://learn.qiskit.org/course/basics/quantum-circuits \n",
    "\n",
    "2 - IBM Quantum Learning: https://learning.quantum-computing.ibm.com/course/basics-of-quantum-information/single-systems#quantum-information\n",
    "\n",
    "3 - Quantum computing vs. Classic: https://www.techtarget.com/searchdatacenter/tip/Classical-vs-quantum-computing-What-are-the-differences\n",
    "\n",
    "2 - Distributed exact quantum algorithms for Deutsch-Jozsa problem: https://arxiv.org/abs/2303.10663#:~:text=Deutsch%2DJozsa%20(DJ)%20problem,determine%20which%20type%20it%20is.\n",
    "\n",
    "3 - Qiu, Daowen, and Shenggen Zheng. \"Generalized Deutsch-Jozsa problem and the optimal quantum algorithm.\" Physical Review A 97.6 (2018): 062331. https://www.researchgate.net/profile/Shenggen-Zheng/publication/325890680_Generalized_Deutsch-Jozsa_problem_and_the_optimal_quantum_algorithm/links/5ba89c2f45851574f7e1c95e/Generalized-Deutsch-Jozsa-problem-and-the-optimal-quantum-algorithm.pdf\n",
    "\n",
    "4 - Deutsch David and Jozsa Richard 1992Rapid solution of problems by quantum computationProc. R. Soc. Lond. A439553–558\n",
    "http://doi.org/10.1098/rspa.1992.0167"
   ]
  }
 ],
 "metadata": {
  "kernelspec": {
   "display_name": "base",
   "language": "python",
   "name": "python3"
  },
  "language_info": {
   "codemirror_mode": {
    "name": "ipython",
    "version": 3
   },
   "file_extension": ".py",
   "mimetype": "text/x-python",
   "name": "python",
   "nbconvert_exporter": "python",
   "pygments_lexer": "ipython3",
   "version": "3.11.5"
  }
 },
 "nbformat": 4,
 "nbformat_minor": 2
}
